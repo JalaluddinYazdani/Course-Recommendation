{
 "cells": [
  {
   "cell_type": "markdown",
   "metadata": {},
   "source": [
    "### End 2 nd DataScience Project\n",
    " - WOrkflow\n",
    " - Data Prep\n",
    " - EDA\n",
    " - KE\n",
    " - Recommendation System\n",
    " - ML Predictive Analysis\n",
    " - Productionized with Streamlit/Flask"
   ]
  },
  {
   "cell_type": "code",
   "execution_count": 1,
   "metadata": {},
   "outputs": [],
   "source": [
    "# Load EDA Pkgs\n",
    "import pandas as pd\n",
    "import numpy as np"
   ]
  },
  {
   "cell_type": "code",
   "execution_count": 2,
   "metadata": {},
   "outputs": [],
   "source": [
    "# Load Data Viz Pkgs\n",
    "import matplotlib.pyplot as plt\n",
    "import seaborn as sns\n",
    "%matplotlib inline"
   ]
  },
  {
   "cell_type": "code",
   "execution_count": 3,
   "metadata": {},
   "outputs": [],
   "source": [
    "# Hide All Warnings\n",
    "import warnings\n",
    "warnings.filterwarnings('ignore')"
   ]
  },
  {
   "cell_type": "code",
   "execution_count": 4,
   "metadata": {},
   "outputs": [],
   "source": [
    "# Load Dataset\n",
    "df = pd.read_csv(\"Data/udemy_courses.csv\")"
   ]
  },
  {
   "cell_type": "code",
   "execution_count": 5,
   "metadata": {},
   "outputs": [
    {
     "data": {
      "text/html": [
       "<div>\n",
       "<style scoped>\n",
       "    .dataframe tbody tr th:only-of-type {\n",
       "        vertical-align: middle;\n",
       "    }\n",
       "\n",
       "    .dataframe tbody tr th {\n",
       "        vertical-align: top;\n",
       "    }\n",
       "\n",
       "    .dataframe thead th {\n",
       "        text-align: right;\n",
       "    }\n",
       "</style>\n",
       "<table border=\"1\" class=\"dataframe\">\n",
       "  <thead>\n",
       "    <tr style=\"text-align: right;\">\n",
       "      <th></th>\n",
       "      <th>course_id</th>\n",
       "      <th>course_title</th>\n",
       "      <th>url</th>\n",
       "      <th>is_paid</th>\n",
       "      <th>price</th>\n",
       "      <th>num_subscribers</th>\n",
       "      <th>num_reviews</th>\n",
       "      <th>num_lectures</th>\n",
       "      <th>level</th>\n",
       "      <th>content_duration</th>\n",
       "      <th>published_timestamp</th>\n",
       "      <th>subject</th>\n",
       "    </tr>\n",
       "  </thead>\n",
       "  <tbody>\n",
       "    <tr>\n",
       "      <th>0</th>\n",
       "      <td>1070968</td>\n",
       "      <td>Ultimate Investment Banking Course</td>\n",
       "      <td>https://www.udemy.com/ultimate-investment-bank...</td>\n",
       "      <td>True</td>\n",
       "      <td>200</td>\n",
       "      <td>2147</td>\n",
       "      <td>23</td>\n",
       "      <td>51</td>\n",
       "      <td>All Levels</td>\n",
       "      <td>1.5</td>\n",
       "      <td>2017-01-18T20:58:58Z</td>\n",
       "      <td>Business Finance</td>\n",
       "    </tr>\n",
       "    <tr>\n",
       "      <th>1</th>\n",
       "      <td>1113822</td>\n",
       "      <td>Complete GST Course &amp; Certification - Grow You...</td>\n",
       "      <td>https://www.udemy.com/goods-and-services-tax/</td>\n",
       "      <td>True</td>\n",
       "      <td>75</td>\n",
       "      <td>2792</td>\n",
       "      <td>923</td>\n",
       "      <td>274</td>\n",
       "      <td>All Levels</td>\n",
       "      <td>39.0</td>\n",
       "      <td>2017-03-09T16:34:20Z</td>\n",
       "      <td>Business Finance</td>\n",
       "    </tr>\n",
       "    <tr>\n",
       "      <th>2</th>\n",
       "      <td>1006314</td>\n",
       "      <td>Financial Modeling for Business Analysts and C...</td>\n",
       "      <td>https://www.udemy.com/financial-modeling-for-b...</td>\n",
       "      <td>True</td>\n",
       "      <td>45</td>\n",
       "      <td>2174</td>\n",
       "      <td>74</td>\n",
       "      <td>51</td>\n",
       "      <td>Intermediate Level</td>\n",
       "      <td>2.5</td>\n",
       "      <td>2016-12-19T19:26:30Z</td>\n",
       "      <td>Business Finance</td>\n",
       "    </tr>\n",
       "    <tr>\n",
       "      <th>3</th>\n",
       "      <td>1210588</td>\n",
       "      <td>Beginner to Pro - Financial Analysis in Excel ...</td>\n",
       "      <td>https://www.udemy.com/complete-excel-finance-c...</td>\n",
       "      <td>True</td>\n",
       "      <td>95</td>\n",
       "      <td>2451</td>\n",
       "      <td>11</td>\n",
       "      <td>36</td>\n",
       "      <td>All Levels</td>\n",
       "      <td>3.0</td>\n",
       "      <td>2017-05-30T20:07:24Z</td>\n",
       "      <td>Business Finance</td>\n",
       "    </tr>\n",
       "    <tr>\n",
       "      <th>4</th>\n",
       "      <td>1011058</td>\n",
       "      <td>How To Maximize Your Profits Trading Options</td>\n",
       "      <td>https://www.udemy.com/how-to-maximize-your-pro...</td>\n",
       "      <td>True</td>\n",
       "      <td>200</td>\n",
       "      <td>1276</td>\n",
       "      <td>45</td>\n",
       "      <td>26</td>\n",
       "      <td>Intermediate Level</td>\n",
       "      <td>2.0</td>\n",
       "      <td>2016-12-13T14:57:18Z</td>\n",
       "      <td>Business Finance</td>\n",
       "    </tr>\n",
       "  </tbody>\n",
       "</table>\n",
       "</div>"
      ],
      "text/plain": [
       "   course_id                                       course_title  \\\n",
       "0    1070968                 Ultimate Investment Banking Course   \n",
       "1    1113822  Complete GST Course & Certification - Grow You...   \n",
       "2    1006314  Financial Modeling for Business Analysts and C...   \n",
       "3    1210588  Beginner to Pro - Financial Analysis in Excel ...   \n",
       "4    1011058       How To Maximize Your Profits Trading Options   \n",
       "\n",
       "                                                 url  is_paid  price  \\\n",
       "0  https://www.udemy.com/ultimate-investment-bank...     True    200   \n",
       "1      https://www.udemy.com/goods-and-services-tax/     True     75   \n",
       "2  https://www.udemy.com/financial-modeling-for-b...     True     45   \n",
       "3  https://www.udemy.com/complete-excel-finance-c...     True     95   \n",
       "4  https://www.udemy.com/how-to-maximize-your-pro...     True    200   \n",
       "\n",
       "   num_subscribers  num_reviews  num_lectures               level  \\\n",
       "0             2147           23            51          All Levels   \n",
       "1             2792          923           274          All Levels   \n",
       "2             2174           74            51  Intermediate Level   \n",
       "3             2451           11            36          All Levels   \n",
       "4             1276           45            26  Intermediate Level   \n",
       "\n",
       "   content_duration   published_timestamp           subject  \n",
       "0               1.5  2017-01-18T20:58:58Z  Business Finance  \n",
       "1              39.0  2017-03-09T16:34:20Z  Business Finance  \n",
       "2               2.5  2016-12-19T19:26:30Z  Business Finance  \n",
       "3               3.0  2017-05-30T20:07:24Z  Business Finance  \n",
       "4               2.0  2016-12-13T14:57:18Z  Business Finance  "
      ]
     },
     "execution_count": 5,
     "metadata": {},
     "output_type": "execute_result"
    }
   ],
   "source": [
    "df.head()"
   ]
  },
  {
   "cell_type": "markdown",
   "metadata": {},
   "source": [
    "### Questions\n",
    "+ Course Title\n",
    "\t- What is the most frequent words in course title\n",
    "\t- Longest/Shortest course title\n",
    "\t- How can we build recommendation systems via title using similarity\n",
    "\t- Most famous courses by number of subscribers\n",
    "\n",
    "+ Subjects/Category\n",
    "\t- What is the distribution of subjects\n",
    "\t- How many courses per subject\n",
    "\t- Distribution of subjects per year\n",
    "\t- How many people purchase a particular subject\n",
    "\t- Which subject is the most popular\n",
    "\n",
    "+ Published Year\n",
    "\t- Number of courses per year\n",
    "\t- Which year has the highest number of courses\n",
    "\t- What is the trend of courses per year\n",
    "\n",
    "+ Levels\n",
    "\t- How many levels do we have\n",
    "\t- What is the distribution of courses per levels\n",
    "\t- Which subject have the highest levels\n",
    "\t- How many subscribers per levels\n",
    "\t- How many courses per levels\n",
    "\n",
    "+ Duration of Course\n",
    "\t- Which courses have the highest duration (paid or not)\n",
    "\t- Which courses have higher duration\n",
    "\t- Duration vs number of subscribers\n",
    "\n",
    "+ Subscribers\n",
    "\t- Which course have the highest number of subscribers\n",
    "\t- Average number of subscribers\n",
    "\t- Number of subscribers per Subject\n",
    "\t- Number of subscribers per year\n",
    "\n",
    "+ Price\n",
    "\t- What is the average price of a course\n",
    "\t- What is the min/max price\n",
    "\t- How much does Udemy earn\n",
    "\t- The most profitable courses\n",
    "\n",
    "+ Correlation Questions\n",
    "\t- Does number of subscribers depend on\n",
    "\t- number of reviews\n",
    "\t- price\n",
    "\t- number of lectures\n",
    "\t- content duration"
   ]
  },
  {
   "cell_type": "markdown",
   "metadata": {},
   "source": [
    "### EDA on Subject/Category\n",
    " - Subjects/Category\n",
    " - What is the distribution of subjects\n",
    " - How many courses per subject\n",
    " - Distribution of subjects per year\n",
    " - How many people purchase a particular subject\n",
    " - Which subject is the most popular\n"
   ]
  },
  {
   "cell_type": "code",
   "execution_count": 6,
   "metadata": {},
   "outputs": [
    {
     "data": {
      "text/plain": [
       "Index(['course_id', 'course_title', 'url', 'is_paid', 'price',\n",
       "       'num_subscribers', 'num_reviews', 'num_lectures', 'level',\n",
       "       'content_duration', 'published_timestamp', 'subject'],\n",
       "      dtype='object')"
      ]
     },
     "execution_count": 6,
     "metadata": {},
     "output_type": "execute_result"
    }
   ],
   "source": [
    "df.columns\n"
   ]
  },
  {
   "cell_type": "code",
   "execution_count": 7,
   "metadata": {},
   "outputs": [
    {
     "data": {
      "text/plain": [
       "array(['Business Finance', 'Graphic Design', 'Musical Instruments',\n",
       "       'Web Development'], dtype=object)"
      ]
     },
     "execution_count": 7,
     "metadata": {},
     "output_type": "execute_result"
    }
   ],
   "source": [
    "# How many subject/category are there in the dataset\n",
    "df['subject'].unique()"
   ]
  },
  {
   "cell_type": "code",
   "execution_count": 8,
   "metadata": {},
   "outputs": [
    {
     "data": {
      "text/plain": [
       "4"
      ]
     },
     "execution_count": 8,
     "metadata": {},
     "output_type": "execute_result"
    }
   ],
   "source": [
    "# How many subject/category are there in the dataset\n",
    "len(df['subject'].unique())\n"
   ]
  },
  {
   "cell_type": "code",
   "execution_count": 9,
   "metadata": {},
   "outputs": [
    {
     "data": {
      "text/plain": [
       "Web Development        1200\n",
       "Business Finance       1195\n",
       "Musical Instruments     680\n",
       "Graphic Design          603\n",
       "Name: subject, dtype: int64"
      ]
     },
     "execution_count": 9,
     "metadata": {},
     "output_type": "execute_result"
    }
   ],
   "source": [
    "# Distribution of Subject/Value Counts\n",
    "df['subject'].value_counts()"
   ]
  },
  {
   "cell_type": "code",
   "execution_count": 10,
   "metadata": {},
   "outputs": [
    {
     "data": {
      "text/plain": [
       "<AxesSubplot:>"
      ]
     },
     "execution_count": 10,
     "metadata": {},
     "output_type": "execute_result"
    },
    {
     "data": {
      "image/png": "[encoded data removed]",
      "text/plain": [
       "<Figure size 432x288 with 1 Axes>"
      ]
     },
     "metadata": {
      "needs_background": "light"
     },
     "output_type": "display_data"
    }
   ],
   "source": [
    "# Plot Distribution of Subject/Value Counts\n",
    "df['subject'].value_counts().plot(kind='bar')\n"
   ]
  },
  {
   "cell_type": "code",
   "execution_count": 11,
   "metadata": {},
   "outputs": [
    {
     "data": {
      "image/png": "[encoded data removed]",
      "text/plain": [
       "<Figure size 720x360 with 1 Axes>"
      ]
     },
     "metadata": {},
     "output_type": "display_data"
    }
   ],
   "source": [
    "# Plot Distribution of Subject/Value Counts with Pie Chart\n",
    "plt.figure(figsize=(10,5))\n",
    "df['subject'].value_counts().plot(kind='pie')\n",
    "plt.show()"
   ]
  },
  {
   "cell_type": "markdown",
   "metadata": {},
   "source": [
    " ### EDA on Subscribers\n",
    "+ Subscribers\n",
    "\t- Which course have the highest number of subscribers\n",
    "\t- Average number of subscribers\n",
    "\t- Number of subscribers per Subject\n",
    "\t- Number of subscribers per year"
   ]
  },
  {
   "cell_type": "code",
   "execution_count": 12,
   "metadata": {},
   "outputs": [
    {
     "data": {
      "text/html": [
       "<div>\n",
       "<style scoped>\n",
       "    .dataframe tbody tr th:only-of-type {\n",
       "        vertical-align: middle;\n",
       "    }\n",
       "\n",
       "    .dataframe tbody tr th {\n",
       "        vertical-align: top;\n",
       "    }\n",
       "\n",
       "    .dataframe thead th {\n",
       "        text-align: right;\n",
       "    }\n",
       "</style>\n",
       "<table border=\"1\" class=\"dataframe\">\n",
       "  <thead>\n",
       "    <tr style=\"text-align: right;\">\n",
       "      <th></th>\n",
       "      <th>course_id</th>\n",
       "      <th>course_title</th>\n",
       "      <th>url</th>\n",
       "      <th>is_paid</th>\n",
       "      <th>price</th>\n",
       "      <th>num_subscribers</th>\n",
       "      <th>num_reviews</th>\n",
       "      <th>num_lectures</th>\n",
       "      <th>level</th>\n",
       "      <th>content_duration</th>\n",
       "      <th>published_timestamp</th>\n",
       "      <th>subject</th>\n",
       "    </tr>\n",
       "  </thead>\n",
       "  <tbody>\n",
       "    <tr>\n",
       "      <th>0</th>\n",
       "      <td>1070968</td>\n",
       "      <td>Ultimate Investment Banking Course</td>\n",
       "      <td>https://www.udemy.com/ultimate-investment-bank...</td>\n",
       "      <td>True</td>\n",
       "      <td>200</td>\n",
       "      <td>2147</td>\n",
       "      <td>23</td>\n",
       "      <td>51</td>\n",
       "      <td>All Levels</td>\n",
       "      <td>1.5</td>\n",
       "      <td>2017-01-18T20:58:58Z</td>\n",
       "      <td>Business Finance</td>\n",
       "    </tr>\n",
       "    <tr>\n",
       "      <th>1</th>\n",
       "      <td>1113822</td>\n",
       "      <td>Complete GST Course &amp; Certification - Grow You...</td>\n",
       "      <td>https://www.udemy.com/goods-and-services-tax/</td>\n",
       "      <td>True</td>\n",
       "      <td>75</td>\n",
       "      <td>2792</td>\n",
       "      <td>923</td>\n",
       "      <td>274</td>\n",
       "      <td>All Levels</td>\n",
       "      <td>39.0</td>\n",
       "      <td>2017-03-09T16:34:20Z</td>\n",
       "      <td>Business Finance</td>\n",
       "    </tr>\n",
       "    <tr>\n",
       "      <th>2</th>\n",
       "      <td>1006314</td>\n",
       "      <td>Financial Modeling for Business Analysts and C...</td>\n",
       "      <td>https://www.udemy.com/financial-modeling-for-b...</td>\n",
       "      <td>True</td>\n",
       "      <td>45</td>\n",
       "      <td>2174</td>\n",
       "      <td>74</td>\n",
       "      <td>51</td>\n",
       "      <td>Intermediate Level</td>\n",
       "      <td>2.5</td>\n",
       "      <td>2016-12-19T19:26:30Z</td>\n",
       "      <td>Business Finance</td>\n",
       "    </tr>\n",
       "    <tr>\n",
       "      <th>3</th>\n",
       "      <td>1210588</td>\n",
       "      <td>Beginner to Pro - Financial Analysis in Excel ...</td>\n",
       "      <td>https://www.udemy.com/complete-excel-finance-c...</td>\n",
       "      <td>True</td>\n",
       "      <td>95</td>\n",
       "      <td>2451</td>\n",
       "      <td>11</td>\n",
       "      <td>36</td>\n",
       "      <td>All Levels</td>\n",
       "      <td>3.0</td>\n",
       "      <td>2017-05-30T20:07:24Z</td>\n",
       "      <td>Business Finance</td>\n",
       "    </tr>\n",
       "    <tr>\n",
       "      <th>4</th>\n",
       "      <td>1011058</td>\n",
       "      <td>How To Maximize Your Profits Trading Options</td>\n",
       "      <td>https://www.udemy.com/how-to-maximize-your-pro...</td>\n",
       "      <td>True</td>\n",
       "      <td>200</td>\n",
       "      <td>1276</td>\n",
       "      <td>45</td>\n",
       "      <td>26</td>\n",
       "      <td>Intermediate Level</td>\n",
       "      <td>2.0</td>\n",
       "      <td>2016-12-13T14:57:18Z</td>\n",
       "      <td>Business Finance</td>\n",
       "    </tr>\n",
       "  </tbody>\n",
       "</table>\n",
       "</div>"
      ],
      "text/plain": [
       "   course_id                                       course_title  \\\n",
       "0    1070968                 Ultimate Investment Banking Course   \n",
       "1    1113822  Complete GST Course & Certification - Grow You...   \n",
       "2    1006314  Financial Modeling for Business Analysts and C...   \n",
       "3    1210588  Beginner to Pro - Financial Analysis in Excel ...   \n",
       "4    1011058       How To Maximize Your Profits Trading Options   \n",
       "\n",
       "                                                 url  is_paid  price  \\\n",
       "0  https://www.udemy.com/ultimate-investment-bank...     True    200   \n",
       "1      https://www.udemy.com/goods-and-services-tax/     True     75   \n",
       "2  https://www.udemy.com/financial-modeling-for-b...     True     45   \n",
       "3  https://www.udemy.com/complete-excel-finance-c...     True     95   \n",
       "4  https://www.udemy.com/how-to-maximize-your-pro...     True    200   \n",
       "\n",
       "   num_subscribers  num_reviews  num_lectures               level  \\\n",
       "0             2147           23            51          All Levels   \n",
       "1             2792          923           274          All Levels   \n",
       "2             2174           74            51  Intermediate Level   \n",
       "3             2451           11            36          All Levels   \n",
       "4             1276           45            26  Intermediate Level   \n",
       "\n",
       "   content_duration   published_timestamp           subject  \n",
       "0               1.5  2017-01-18T20:58:58Z  Business Finance  \n",
       "1              39.0  2017-03-09T16:34:20Z  Business Finance  \n",
       "2               2.5  2016-12-19T19:26:30Z  Business Finance  \n",
       "3               3.0  2017-05-30T20:07:24Z  Business Finance  \n",
       "4               2.0  2016-12-13T14:57:18Z  Business Finance  "
      ]
     },
     "execution_count": 12,
     "metadata": {},
     "output_type": "execute_result"
    }
   ],
   "source": [
    "df.head()"
   ]
  },
  {
   "cell_type": "code",
   "execution_count": 13,
   "metadata": {},
   "outputs": [
    {
     "data": {
      "text/plain": [
       "Web Development        1200\n",
       "Business Finance       1195\n",
       "Musical Instruments     680\n",
       "Graphic Design          603\n",
       "Name: subject, dtype: int64"
      ]
     },
     "execution_count": 13,
     "metadata": {},
     "output_type": "execute_result"
    }
   ],
   "source": [
    "# Number of Courses per Subject\n",
    "df['subject'].value_counts()"
   ]
  },
  {
   "cell_type": "code",
   "execution_count": 14,
   "metadata": {},
   "outputs": [
    {
     "data": {
      "text/plain": [
       "subject\n",
       "Business Finance       1868711\n",
       "Graphic Design         1063148\n",
       "Musical Instruments     846689\n",
       "Web Development        7980572\n",
       "Name: num_subscribers, dtype: int64"
      ]
     },
     "execution_count": 14,
     "metadata": {},
     "output_type": "execute_result"
    }
   ],
   "source": [
    "# Number of subscribers per Subject\n",
    "df.groupby('subject')['num_subscribers'].sum()"
   ]
  },
  {
   "cell_type": "code",
   "execution_count": 15,
   "metadata": {},
   "outputs": [
    {
     "data": {
      "text/plain": [
       "<AxesSubplot:xlabel='subject'>"
      ]
     },
     "execution_count": 15,
     "metadata": {},
     "output_type": "execute_result"
    },
    {
     "data": {
      "image/png": "[encoded data removed]",
      "text/plain": [
       "<Figure size 432x288 with 1 Axes>"
      ]
     },
     "metadata": {
      "needs_background": "light"
     },
     "output_type": "display_data"
    }
   ],
   "source": [
    "# Plot of the Number of subscribers per Subject\n",
    "df.groupby('subject')['num_subscribers'].sum().plot(kind='bar')\n"
   ]
  },
  {
   "cell_type": "code",
   "execution_count": 16,
   "metadata": {},
   "outputs": [
    {
     "data": {
      "text/plain": [
       "<AxesSubplot:ylabel='num_subscribers'>"
      ]
     },
     "execution_count": 16,
     "metadata": {},
     "output_type": "execute_result"
    },
    {
     "data": {
      "image/png": "[encoded data removed]",
      "text/plain": [
       "<Figure size 432x288 with 1 Axes>"
      ]
     },
     "metadata": {},
     "output_type": "display_data"
    }
   ],
   "source": [
    "# Plot of the Number of subscribers per Subject\n",
    "df.groupby('subject')['num_subscribers'].sum().plot(kind='pie')"
   ]
  },
  {
   "cell_type": "markdown",
   "metadata": {},
   "source": [
    "### Narrative\n",
    " - More subscribers for Web dev than Business Finance\n",
    " - The top subject category is Web Dev, Business Finance"
   ]
  },
  {
   "cell_type": "code",
   "execution_count": 17,
   "metadata": {},
   "outputs": [
    {
     "data": {
      "text/plain": [
       "11759120"
      ]
     },
     "execution_count": 17,
     "metadata": {},
     "output_type": "execute_result"
    }
   ],
   "source": [
    "# Total Number of Subscribers\n",
    "df['num_subscribers'].sum()\n"
   ]
  },
  {
   "cell_type": "code",
   "execution_count": 18,
   "metadata": {},
   "outputs": [
    {
     "data": {
      "text/plain": [
       "3197.150625339859"
      ]
     },
     "execution_count": 18,
     "metadata": {},
     "output_type": "execute_result"
    }
   ],
   "source": [
    "##Average number of subscribers\n",
    "df['num_subscribers'].mean()\n"
   ]
  },
  {
   "cell_type": "code",
   "execution_count": 19,
   "metadata": {},
   "outputs": [
    {
     "data": {
      "text/plain": [
       "0"
      ]
     },
     "execution_count": 19,
     "metadata": {},
     "output_type": "execute_result"
    }
   ],
   "source": [
    "# Min number of subscriber\n",
    "df['num_subscribers'].min()"
   ]
  },
  {
   "cell_type": "code",
   "execution_count": 20,
   "metadata": {},
   "outputs": [
    {
     "data": {
      "text/plain": [
       "268923"
      ]
     },
     "execution_count": 20,
     "metadata": {},
     "output_type": "execute_result"
    }
   ],
   "source": [
    "# Max number of subscriber\n",
    "df['num_subscribers'].max()"
   ]
  },
  {
   "cell_type": "code",
   "execution_count": 21,
   "metadata": {},
   "outputs": [
    {
     "data": {
      "text/plain": [
       "2827"
      ]
     },
     "execution_count": 21,
     "metadata": {},
     "output_type": "execute_result"
    }
   ],
   "source": [
    "# Which course has the highest number of sub\n",
    "df['num_subscribers'].idxmax()"
   ]
  },
  {
   "cell_type": "code",
   "execution_count": 22,
   "metadata": {},
   "outputs": [
    {
     "data": {
      "text/plain": [
       "course_id                                                         984072\n",
       "course_title           Build Modern Websites Quick With HTML,CSS and ...\n",
       "url                    https://www.udemy.com/build-modern-websites-qu...\n",
       "is_paid                                                             True\n",
       "price                                                                 20\n",
       "num_subscribers                                                      912\n",
       "num_reviews                                                           17\n",
       "num_lectures                                                          48\n",
       "level                                                     Beginner Level\n",
       "content_duration                                                     4.5\n",
       "published_timestamp                                 2016-10-18T15:48:43Z\n",
       "subject                                                  Web Development\n",
       "Name: 2832, dtype: object"
      ]
     },
     "execution_count": 22,
     "metadata": {},
     "output_type": "execute_result"
    }
   ],
   "source": [
    "# Get the location\n",
    "df.iloc[2832]"
   ]
  },
  {
   "cell_type": "markdown",
   "metadata": {},
   "source": [
    "### Narrative\n",
    " - Udemy has over 11 million subscribers\n",
    " - Highest num of sub: 268923\n",
    " - Average num of sub: 3193 "
   ]
  },
  {
   "cell_type": "markdown",
   "metadata": {},
   "source": [
    "### EDA on Levels\n",
    "- How many levels do we have \n",
    "- What is the distribution of courses per levels \n",
    "- Which subject have the highest levels \n",
    "- How many subscribers per levels \n",
    "- How many courses per levels"
   ]
  },
  {
   "cell_type": "code",
   "execution_count": 23,
   "metadata": {},
   "outputs": [
    {
     "data": {
      "text/plain": [
       "array(['All Levels', 'Intermediate Level', 'Beginner Level',\n",
       "       'Expert Level'], dtype=object)"
      ]
     },
     "execution_count": 23,
     "metadata": {},
     "output_type": "execute_result"
    }
   ],
   "source": [
    "# How many levels do we have\n",
    "df['level'].unique()\n"
   ]
  },
  {
   "cell_type": "code",
   "execution_count": 24,
   "metadata": {},
   "outputs": [
    {
     "data": {
      "text/plain": [
       "All Levels            1929\n",
       "Beginner Level        1270\n",
       "Intermediate Level     421\n",
       "Expert Level            58\n",
       "Name: level, dtype: int64"
      ]
     },
     "execution_count": 24,
     "metadata": {},
     "output_type": "execute_result"
    }
   ],
   "source": [
    "# What is the distribution of courses per levels\n",
    "df['level'].value_counts()"
   ]
  },
  {
   "cell_type": "code",
   "execution_count": 25,
   "metadata": {},
   "outputs": [
    {
     "data": {
      "text/plain": [
       "<AxesSubplot:>"
      ]
     },
     "execution_count": 25,
     "metadata": {},
     "output_type": "execute_result"
    },
    {
     "data": {
      "image/png": "[encoded data removed]",
      "text/plain": [
       "<Figure size 432x288 with 1 Axes>"
      ]
     },
     "metadata": {
      "needs_background": "light"
     },
     "output_type": "display_data"
    }
   ],
   "source": [
    "# What is the distribution of courses per levels\n",
    "df['level'].value_counts().plot(kind='bar')"
   ]
  },
  {
   "cell_type": "code",
   "execution_count": 26,
   "metadata": {},
   "outputs": [
    {
     "data": {
      "text/plain": [
       "<AxesSubplot:ylabel='level'>"
      ]
     },
     "execution_count": 26,
     "metadata": {},
     "output_type": "execute_result"
    },
    {
     "data": {
      "image/png": "[encoded data removed]",
      "text/plain": [
       "<Figure size 432x288 with 1 Axes>"
      ]
     },
     "metadata": {},
     "output_type": "display_data"
    }
   ],
   "source": [
    "# What is the distribution of courses per levels\n",
    "df['level'].value_counts().plot(kind='pie')"
   ]
  },
  {
   "cell_type": "code",
   "execution_count": 27,
   "metadata": {},
   "outputs": [
    {
     "data": {
      "text/plain": [
       "level\n",
       "All Levels            6915076\n",
       "Beginner Level        4051843\n",
       "Expert Level            50196\n",
       "Intermediate Level     742005\n",
       "Name: num_subscribers, dtype: int64"
      ]
     },
     "execution_count": 27,
     "metadata": {},
     "output_type": "execute_result"
    }
   ],
   "source": [
    "#  How many subscribers per levels\n",
    "df.groupby('level')['num_subscribers'].sum()"
   ]
  },
  {
   "cell_type": "code",
   "execution_count": 28,
   "metadata": {},
   "outputs": [
    {
     "data": {
      "text/html": [
       "<div>\n",
       "<style scoped>\n",
       "    .dataframe tbody tr th:only-of-type {\n",
       "        vertical-align: middle;\n",
       "    }\n",
       "\n",
       "    .dataframe tbody tr th {\n",
       "        vertical-align: top;\n",
       "    }\n",
       "\n",
       "    .dataframe thead th {\n",
       "        text-align: right;\n",
       "    }\n",
       "</style>\n",
       "<table border=\"1\" class=\"dataframe\">\n",
       "  <thead>\n",
       "    <tr style=\"text-align: right;\">\n",
       "      <th></th>\n",
       "      <th>num_subscribers</th>\n",
       "      <th>level</th>\n",
       "    </tr>\n",
       "  </thead>\n",
       "  <tbody>\n",
       "    <tr>\n",
       "      <th>0</th>\n",
       "      <td>2147</td>\n",
       "      <td>All Levels</td>\n",
       "    </tr>\n",
       "    <tr>\n",
       "      <th>1</th>\n",
       "      <td>2792</td>\n",
       "      <td>All Levels</td>\n",
       "    </tr>\n",
       "    <tr>\n",
       "      <th>2</th>\n",
       "      <td>2174</td>\n",
       "      <td>Intermediate Level</td>\n",
       "    </tr>\n",
       "    <tr>\n",
       "      <th>3</th>\n",
       "      <td>2451</td>\n",
       "      <td>All Levels</td>\n",
       "    </tr>\n",
       "    <tr>\n",
       "      <th>4</th>\n",
       "      <td>1276</td>\n",
       "      <td>Intermediate Level</td>\n",
       "    </tr>\n",
       "    <tr>\n",
       "      <th>...</th>\n",
       "      <td>...</td>\n",
       "      <td>...</td>\n",
       "    </tr>\n",
       "    <tr>\n",
       "      <th>3673</th>\n",
       "      <td>1040</td>\n",
       "      <td>All Levels</td>\n",
       "    </tr>\n",
       "    <tr>\n",
       "      <th>3674</th>\n",
       "      <td>306</td>\n",
       "      <td>Beginner Level</td>\n",
       "    </tr>\n",
       "    <tr>\n",
       "      <th>3675</th>\n",
       "      <td>513</td>\n",
       "      <td>All Levels</td>\n",
       "    </tr>\n",
       "    <tr>\n",
       "      <th>3676</th>\n",
       "      <td>300</td>\n",
       "      <td>All Levels</td>\n",
       "    </tr>\n",
       "    <tr>\n",
       "      <th>3677</th>\n",
       "      <td>901</td>\n",
       "      <td>Beginner Level</td>\n",
       "    </tr>\n",
       "  </tbody>\n",
       "</table>\n",
       "<p>3678 rows × 2 columns</p>\n",
       "</div>"
      ],
      "text/plain": [
       "      num_subscribers               level\n",
       "0                2147          All Levels\n",
       "1                2792          All Levels\n",
       "2                2174  Intermediate Level\n",
       "3                2451          All Levels\n",
       "4                1276  Intermediate Level\n",
       "...               ...                 ...\n",
       "3673             1040          All Levels\n",
       "3674              306      Beginner Level\n",
       "3675              513          All Levels\n",
       "3676              300          All Levels\n",
       "3677              901      Beginner Level\n",
       "\n",
       "[3678 rows x 2 columns]"
      ]
     },
     "execution_count": 28,
     "metadata": {},
     "output_type": "execute_result"
    }
   ],
   "source": [
    "df[['num_subscribers','level']]"
   ]
  },
  {
   "cell_type": "code",
   "execution_count": 29,
   "metadata": {},
   "outputs": [
    {
     "data": {
      "text/plain": [
       "<AxesSubplot:xlabel='level'>"
      ]
     },
     "execution_count": 29,
     "metadata": {},
     "output_type": "execute_result"
    },
    {
     "data": {
      "image/png": "[encoded data removed]",
      "text/plain": [
       "<Figure size 432x288 with 1 Axes>"
      ]
     },
     "metadata": {
      "needs_background": "light"
     },
     "output_type": "display_data"
    }
   ],
   "source": [
    "# Plot of How many subscribers per levels\n",
    "df.groupby('level')['num_subscribers'].sum().plot(kind='bar')"
   ]
  },
  {
   "cell_type": "code",
   "execution_count": 30,
   "metadata": {},
   "outputs": [
    {
     "data": {
      "text/plain": [
       "<AxesSubplot:ylabel='num_subscribers'>"
      ]
     },
     "execution_count": 30,
     "metadata": {},
     "output_type": "execute_result"
    },
    {
     "data": {
      "image/png": "[encoded data removed]",
      "text/plain": [
       "<Figure size 432x288 with 1 Axes>"
      ]
     },
     "metadata": {},
     "output_type": "display_data"
    }
   ],
   "source": [
    "#  How many subscribers per levels\n",
    "df.groupby('level')['num_subscribers'].sum().plot(kind='pie')\n"
   ]
  },
  {
   "cell_type": "code",
   "execution_count": 31,
   "metadata": {},
   "outputs": [
    {
     "data": {
      "text/plain": [
       "subject              level             \n",
       "Business Finance     All Levels            696\n",
       "                     Beginner Level        340\n",
       "                     Intermediate Level    128\n",
       "                     Expert Level           31\n",
       "Graphic Design       All Levels            298\n",
       "                     Beginner Level        243\n",
       "                     Intermediate Level     57\n",
       "                     Expert Level            5\n",
       "Musical Instruments  Beginner Level        296\n",
       "                     All Levels            276\n",
       "                     Intermediate Level    101\n",
       "                     Expert Level            7\n",
       "Web Development      All Levels            659\n",
       "                     Beginner Level        391\n",
       "                     Intermediate Level    135\n",
       "                     Expert Level           15\n",
       "Name: level, dtype: int64"
      ]
     },
     "execution_count": 31,
     "metadata": {},
     "output_type": "execute_result"
    }
   ],
   "source": [
    "# How many levels per subject category\n",
    "df.groupby('subject')['level'].value_counts()\n"
   ]
  },
  {
   "cell_type": "code",
   "execution_count": 32,
   "metadata": {},
   "outputs": [
    {
     "data": {
      "text/plain": [
       "<AxesSubplot:xlabel='subject,level'>"
      ]
     },
     "execution_count": 32,
     "metadata": {},
     "output_type": "execute_result"
    },
    {
     "data": {
      "image/png": "[encoded data removed]",
      "text/plain": [
       "<Figure size 432x288 with 1 Axes>"
      ]
     },
     "metadata": {
      "needs_background": "light"
     },
     "output_type": "display_data"
    }
   ],
   "source": [
    "# Plot of How many levels per subject category\n",
    "df.groupby('subject')['level'].value_counts().plot(kind='bar')\n"
   ]
  },
  {
   "cell_type": "code",
   "execution_count": 33,
   "metadata": {},
   "outputs": [
    {
     "data": {
      "image/png": "[encoded data removed]",
      "text/plain": [
       "<Figure size 1440x720 with 1 Axes>"
      ]
     },
     "metadata": {
      "needs_background": "light"
     },
     "output_type": "display_data"
    }
   ],
   "source": [
    "# Using Seaborn \n",
    "plt.figure(figsize=(20,10))\n",
    "sns.barplot(x='level',y='num_subscribers', hue='subject',data=df)\n",
    "plt.show()\n"
   ]
  },
  {
   "cell_type": "code",
   "execution_count": 34,
   "metadata": {},
   "outputs": [
    {
     "data": {
      "image/png": "[encoded data removed]",
      "text/plain": [
       "<Figure size 1440x720 with 1 Axes>"
      ]
     },
     "metadata": {
      "needs_background": "light"
     },
     "output_type": "display_data"
    }
   ],
   "source": [
    "# Using Seaborn \n",
    "plt.figure(figsize=(20,10))\n",
    "sns.barplot(x='level',y='num_subscribers', hue='subject',data=df,ci=None)\n",
    "plt.show()"
   ]
  },
  {
   "cell_type": "code",
   "execution_count": 35,
   "metadata": {},
   "outputs": [
    {
     "data": {
      "image/png": "[encoded data removed]",
      "text/plain": [
       "<Figure size 1440x720 with 1 Axes>"
      ]
     },
     "metadata": {
      "needs_background": "light"
     },
     "output_type": "display_data"
    }
   ],
   "source": [
    "# Using Seaborn \n",
    "plt.figure(figsize=(20,10))\n",
    "sns.barplot(x='level',y='num_lectures', hue='subject',data=df,ci=None)\n",
    "plt.show()"
   ]
  },
  {
   "cell_type": "code",
   "execution_count": 36,
   "metadata": {},
   "outputs": [
    {
     "data": {
      "text/html": [
       "<div>\n",
       "<style scoped>\n",
       "    .dataframe tbody tr th:only-of-type {\n",
       "        vertical-align: middle;\n",
       "    }\n",
       "\n",
       "    .dataframe tbody tr th {\n",
       "        vertical-align: top;\n",
       "    }\n",
       "\n",
       "    .dataframe thead th {\n",
       "        text-align: right;\n",
       "    }\n",
       "</style>\n",
       "<table border=\"1\" class=\"dataframe\">\n",
       "  <thead>\n",
       "    <tr style=\"text-align: right;\">\n",
       "      <th></th>\n",
       "      <th>course_id</th>\n",
       "      <th>course_title</th>\n",
       "      <th>url</th>\n",
       "      <th>is_paid</th>\n",
       "      <th>price</th>\n",
       "      <th>num_subscribers</th>\n",
       "      <th>num_reviews</th>\n",
       "      <th>num_lectures</th>\n",
       "      <th>level</th>\n",
       "      <th>content_duration</th>\n",
       "      <th>published_timestamp</th>\n",
       "      <th>subject</th>\n",
       "    </tr>\n",
       "  </thead>\n",
       "  <tbody>\n",
       "    <tr>\n",
       "      <th>0</th>\n",
       "      <td>1070968</td>\n",
       "      <td>Ultimate Investment Banking Course</td>\n",
       "      <td>https://www.udemy.com/ultimate-investment-bank...</td>\n",
       "      <td>True</td>\n",
       "      <td>200</td>\n",
       "      <td>2147</td>\n",
       "      <td>23</td>\n",
       "      <td>51</td>\n",
       "      <td>All Levels</td>\n",
       "      <td>1.5</td>\n",
       "      <td>2017-01-18T20:58:58Z</td>\n",
       "      <td>Business Finance</td>\n",
       "    </tr>\n",
       "    <tr>\n",
       "      <th>1</th>\n",
       "      <td>1113822</td>\n",
       "      <td>Complete GST Course &amp; Certification - Grow You...</td>\n",
       "      <td>https://www.udemy.com/goods-and-services-tax/</td>\n",
       "      <td>True</td>\n",
       "      <td>75</td>\n",
       "      <td>2792</td>\n",
       "      <td>923</td>\n",
       "      <td>274</td>\n",
       "      <td>All Levels</td>\n",
       "      <td>39.0</td>\n",
       "      <td>2017-03-09T16:34:20Z</td>\n",
       "      <td>Business Finance</td>\n",
       "    </tr>\n",
       "    <tr>\n",
       "      <th>2</th>\n",
       "      <td>1006314</td>\n",
       "      <td>Financial Modeling for Business Analysts and C...</td>\n",
       "      <td>https://www.udemy.com/financial-modeling-for-b...</td>\n",
       "      <td>True</td>\n",
       "      <td>45</td>\n",
       "      <td>2174</td>\n",
       "      <td>74</td>\n",
       "      <td>51</td>\n",
       "      <td>Intermediate Level</td>\n",
       "      <td>2.5</td>\n",
       "      <td>2016-12-19T19:26:30Z</td>\n",
       "      <td>Business Finance</td>\n",
       "    </tr>\n",
       "    <tr>\n",
       "      <th>3</th>\n",
       "      <td>1210588</td>\n",
       "      <td>Beginner to Pro - Financial Analysis in Excel ...</td>\n",
       "      <td>https://www.udemy.com/complete-excel-finance-c...</td>\n",
       "      <td>True</td>\n",
       "      <td>95</td>\n",
       "      <td>2451</td>\n",
       "      <td>11</td>\n",
       "      <td>36</td>\n",
       "      <td>All Levels</td>\n",
       "      <td>3.0</td>\n",
       "      <td>2017-05-30T20:07:24Z</td>\n",
       "      <td>Business Finance</td>\n",
       "    </tr>\n",
       "    <tr>\n",
       "      <th>4</th>\n",
       "      <td>1011058</td>\n",
       "      <td>How To Maximize Your Profits Trading Options</td>\n",
       "      <td>https://www.udemy.com/how-to-maximize-your-pro...</td>\n",
       "      <td>True</td>\n",
       "      <td>200</td>\n",
       "      <td>1276</td>\n",
       "      <td>45</td>\n",
       "      <td>26</td>\n",
       "      <td>Intermediate Level</td>\n",
       "      <td>2.0</td>\n",
       "      <td>2016-12-13T14:57:18Z</td>\n",
       "      <td>Business Finance</td>\n",
       "    </tr>\n",
       "  </tbody>\n",
       "</table>\n",
       "</div>"
      ],
      "text/plain": [
       "   course_id                                       course_title  \\\n",
       "0    1070968                 Ultimate Investment Banking Course   \n",
       "1    1113822  Complete GST Course & Certification - Grow You...   \n",
       "2    1006314  Financial Modeling for Business Analysts and C...   \n",
       "3    1210588  Beginner to Pro - Financial Analysis in Excel ...   \n",
       "4    1011058       How To Maximize Your Profits Trading Options   \n",
       "\n",
       "                                                 url  is_paid  price  \\\n",
       "0  https://www.udemy.com/ultimate-investment-bank...     True    200   \n",
       "1      https://www.udemy.com/goods-and-services-tax/     True     75   \n",
       "2  https://www.udemy.com/financial-modeling-for-b...     True     45   \n",
       "3  https://www.udemy.com/complete-excel-finance-c...     True     95   \n",
       "4  https://www.udemy.com/how-to-maximize-your-pro...     True    200   \n",
       "\n",
       "   num_subscribers  num_reviews  num_lectures               level  \\\n",
       "0             2147           23            51          All Levels   \n",
       "1             2792          923           274          All Levels   \n",
       "2             2174           74            51  Intermediate Level   \n",
       "3             2451           11            36          All Levels   \n",
       "4             1276           45            26  Intermediate Level   \n",
       "\n",
       "   content_duration   published_timestamp           subject  \n",
       "0               1.5  2017-01-18T20:58:58Z  Business Finance  \n",
       "1              39.0  2017-03-09T16:34:20Z  Business Finance  \n",
       "2               2.5  2016-12-19T19:26:30Z  Business Finance  \n",
       "3               3.0  2017-05-30T20:07:24Z  Business Finance  \n",
       "4               2.0  2016-12-13T14:57:18Z  Business Finance  "
      ]
     },
     "execution_count": 36,
     "metadata": {},
     "output_type": "execute_result"
    }
   ],
   "source": [
    "# EDA on Lectures\n",
    "df.head()"
   ]
  },
  {
   "cell_type": "code",
   "execution_count": 37,
   "metadata": {},
   "outputs": [],
   "source": [
    "def plot_num_of_countable_feature(feature):\n",
    "    # Using Seaborn \n",
    "    plt.figure(figsize=(10,7))\n",
    "    plt.title(\"Plot of {} per level per subject\".format(feature))\n",
    "    sns.barplot(x='level',y=feature, hue='subject',data=df,ci=None)\n",
    "    plt.show()\n",
    "    plt.figure(figsize=(10,7))\n",
    "    #  How many subscribers per levels\n",
    "    plt.title(\"Plot of {} per level\".format(feature))\n",
    "    df.groupby('level')[feature].sum().plot(kind='pie')\n",
    "    plt.show()"
   ]
  },
  {
   "cell_type": "code",
   "execution_count": 38,
   "metadata": {},
   "outputs": [
    {
     "data": {
      "image/png": "[encoded data removed]",
      "text/plain": [
       "<Figure size 720x504 with 1 Axes>"
      ]
     },
     "metadata": {
      "needs_background": "light"
     },
     "output_type": "display_data"
    },
    {
     "data": {
      "image/png": "[encoded data removed]",
      "text/plain": [
       "<Figure size 720x504 with 1 Axes>"
      ]
     },
     "metadata": {},
     "output_type": "display_data"
    }
   ],
   "source": [
    "# Plot For the lectures * reviews\n",
    "plot_num_of_countable_feature('num_reviews')"
   ]
  },
  {
   "cell_type": "code",
   "execution_count": 39,
   "metadata": {},
   "outputs": [
    {
     "data": {
      "image/png": "[encoded data removed]",
      "text/plain": [
       "<Figure size 720x504 with 1 Axes>"
      ]
     },
     "metadata": {
      "needs_background": "light"
     },
     "output_type": "display_data"
    },
    {
     "data": {
      "image/png": "[encoded data removed]",
      "text/plain": [
       "<Figure size 720x504 with 1 Axes>"
      ]
     },
     "metadata": {},
     "output_type": "display_data"
    }
   ],
   "source": [
    "# Plot of lectures\n",
    "plot_num_of_countable_feature('num_lectures')"
   ]
  },
  {
   "cell_type": "markdown",
   "metadata": {},
   "source": [
    "### EDA on Price\n",
    "+ Price\n",
    "\t- What is the average price of a course\n",
    "\t- What is the min/max price\n",
    "\t- How much does Udemy earn\n",
    "\t- The most profitable courses"
   ]
  },
  {
   "cell_type": "code",
   "execution_count": 40,
   "metadata": {},
   "outputs": [
    {
     "data": {
      "text/plain": [
       "dtype('int64')"
      ]
     },
     "execution_count": 40,
     "metadata": {},
     "output_type": "execute_result"
    }
   ],
   "source": [
    "# Datatype\n",
    "df['price'].dtype"
   ]
  },
  {
   "cell_type": "code",
   "execution_count": 41,
   "metadata": {},
   "outputs": [
    {
     "data": {
      "text/plain": [
       "array([200,  75,  45,  95, 150,  65, 195,  30,  20,  50, 175, 140, 115,\n",
       "       190, 125,  60, 145, 105, 155, 185, 180, 120,  25, 160,  40,   0,\n",
       "       100,  90,  35,  80,  70,  55, 165, 130,  85, 170, 110, 135],\n",
       "      dtype=int64)"
      ]
     },
     "execution_count": 41,
     "metadata": {},
     "output_type": "execute_result"
    }
   ],
   "source": [
    "# unique price\n",
    "df.price.unique()"
   ]
  },
  {
   "cell_type": "code",
   "execution_count": 42,
   "metadata": {},
   "outputs": [
    {
     "data": {
      "text/plain": [
       "66.0494834148994"
      ]
     },
     "execution_count": 42,
     "metadata": {},
     "output_type": "execute_result"
    }
   ],
   "source": [
    "# What is the average price\n",
    "df['price'].mean()"
   ]
  },
  {
   "cell_type": "code",
   "execution_count": 43,
   "metadata": {},
   "outputs": [
    {
     "data": {
      "text/plain": [
       "200"
      ]
     },
     "execution_count": 43,
     "metadata": {},
     "output_type": "execute_result"
    }
   ],
   "source": [
    "# What is the max price\n",
    "df['price'].max()"
   ]
  },
  {
   "cell_type": "code",
   "execution_count": 44,
   "metadata": {},
   "outputs": [
    {
     "data": {
      "text/plain": [
       "0"
      ]
     },
     "execution_count": 44,
     "metadata": {},
     "output_type": "execute_result"
    }
   ],
   "source": [
    "# What is the max price location\n",
    "df['price'].idxmax()\n"
   ]
  },
  {
   "cell_type": "code",
   "execution_count": 45,
   "metadata": {},
   "outputs": [
    {
     "data": {
      "text/plain": [
       "course_id                                                        1070968\n",
       "course_title                          Ultimate Investment Banking Course\n",
       "url                    https://www.udemy.com/ultimate-investment-bank...\n",
       "is_paid                                                             True\n",
       "price                                                                200\n",
       "num_subscribers                                                     2147\n",
       "num_reviews                                                           23\n",
       "num_lectures                                                          51\n",
       "level                                                         All Levels\n",
       "content_duration                                                     1.5\n",
       "published_timestamp                                 2017-01-18T20:58:58Z\n",
       "subject                                                 Business Finance\n",
       "Name: 0, dtype: object"
      ]
     },
     "execution_count": 45,
     "metadata": {},
     "output_type": "execute_result"
    }
   ],
   "source": [
    "df.iloc[0]\n"
   ]
  },
  {
   "cell_type": "code",
   "execution_count": 46,
   "metadata": {},
   "outputs": [],
   "source": [
    "# What is the most profitable course\n",
    "# price x num_subscriber\n",
    "df['profit'] = df['price'] * df['num_subscribers']\n"
   ]
  },
  {
   "cell_type": "code",
   "execution_count": 47,
   "metadata": {},
   "outputs": [
    {
     "data": {
      "text/plain": [
       "24316800"
      ]
     },
     "execution_count": 47,
     "metadata": {},
     "output_type": "execute_result"
    }
   ],
   "source": [
    "# What is the most profitable\n",
    "df['profit'].max()\n"
   ]
  },
  {
   "cell_type": "markdown",
   "metadata": {},
   "source": [
    "### Narative\n",
    " - Most profitable course made 24 million $\n"
   ]
  },
  {
   "cell_type": "code",
   "execution_count": 48,
   "metadata": {},
   "outputs": [
    {
     "data": {
      "text/plain": [
       "3230"
      ]
     },
     "execution_count": 48,
     "metadata": {},
     "output_type": "execute_result"
    }
   ],
   "source": [
    "# The location of course\n",
    "df['profit'].idxmax()"
   ]
  },
  {
   "cell_type": "code",
   "execution_count": 49,
   "metadata": {},
   "outputs": [
    {
     "data": {
      "text/plain": [
       "course_id                                                         866696\n",
       "course_title                                 REST WCF Service in ASP.NET\n",
       "url                    https://www.udemy.com/rest-wcf-service-in-aspnet/\n",
       "is_paid                                                            False\n",
       "price                                                                  0\n",
       "num_subscribers                                                     7905\n",
       "num_reviews                                                          561\n",
       "num_lectures                                                           5\n",
       "level                                                         All Levels\n",
       "content_duration                                                0.683333\n",
       "published_timestamp                                 2016-06-08T17:28:16Z\n",
       "subject                                                  Web Development\n",
       "profit                                                                 0\n",
       "Name: 3235, dtype: object"
      ]
     },
     "execution_count": 49,
     "metadata": {},
     "output_type": "execute_result"
    }
   ],
   "source": [
    "df.iloc[3235]"
   ]
  },
  {
   "cell_type": "markdown",
   "metadata": {},
   "source": [
    "### Correlation Question\n",
    "+ Correlation Questions\n",
    "\t- Does number of subscribers depend on\n",
    "\t- number of reviews\n",
    "\t- price\n",
    "\t- number of lectures\n",
    "\t- content duration"
   ]
  },
  {
   "cell_type": "code",
   "execution_count": 50,
   "metadata": {},
   "outputs": [
    {
     "data": {
      "text/plain": [
       "<AxesSubplot:xlabel='price', ylabel='num_subscribers'>"
      ]
     },
     "execution_count": 50,
     "metadata": {},
     "output_type": "execute_result"
    },
    {
     "data": {
      "image/png": "[encoded data removed]",
      "text/plain": [
       "<Figure size 432x288 with 1 Axes>"
      ]
     },
     "metadata": {
      "needs_background": "light"
     },
     "output_type": "display_data"
    }
   ],
   "source": [
    "sns.scatterplot(data=df,x='price',y='num_subscribers')"
   ]
  },
  {
   "cell_type": "code",
   "execution_count": 51,
   "metadata": {},
   "outputs": [
    {
     "data": {
      "text/plain": [
       "<AxesSubplot:xlabel='price', ylabel='num_reviews'>"
      ]
     },
     "execution_count": 51,
     "metadata": {},
     "output_type": "execute_result"
    },
    {
     "data": {
      "image/png": "[encoded data removed]",
      "text/plain": [
       "<Figure size 432x288 with 1 Axes>"
      ]
     },
     "metadata": {
      "needs_background": "light"
     },
     "output_type": "display_data"
    }
   ],
   "source": [
    "sns.scatterplot(data=df,x='price',y='num_reviews')\n"
   ]
  },
  {
   "cell_type": "code",
   "execution_count": 52,
   "metadata": {},
   "outputs": [
    {
     "data": {
      "image/png": "[encoded data removed]",
      "text/plain": [
       "<Figure size 1440x720 with 1 Axes>"
      ]
     },
     "metadata": {
      "needs_background": "light"
     },
     "output_type": "display_data"
    }
   ],
   "source": [
    "plt.figure(figsize=(20,10))\n",
    "plt.title(\"Does Price Influence Subscription Per Subject Category\")\n",
    "sns.lineplot(data=df,x='price',y='num_subscribers',hue='subject')\n",
    "plt.show()"
   ]
  },
  {
   "cell_type": "code",
   "execution_count": 53,
   "metadata": {},
   "outputs": [
    {
     "data": {
      "image/png": "[encoded data removed]",
      "text/plain": [
       "<Figure size 1440x720 with 1 Axes>"
      ]
     },
     "metadata": {
      "needs_background": "light"
     },
     "output_type": "display_data"
    }
   ],
   "source": [
    "plt.figure(figsize=(20,10))\n",
    "plt.title(\"Does Reviews Influence Subscription Per Subject Category\")\n",
    "sns.lineplot(data=df,x='num_reviews',y='num_subscribers',hue='subject')\n",
    "plt.show()"
   ]
  },
  {
   "cell_type": "markdown",
   "metadata": {},
   "source": [
    "### Question on Time\n",
    " - Published Year\n",
    " - Number of courses per year\n",
    " - Distribution of subjects per year\n",
    " - Which year has the highest number of courses\n",
    " - What is the trend of courses per year\n"
   ]
  },
  {
   "cell_type": "code",
   "execution_count": 54,
   "metadata": {},
   "outputs": [
    {
     "data": {
      "text/html": [
       "<div>\n",
       "<style scoped>\n",
       "    .dataframe tbody tr th:only-of-type {\n",
       "        vertical-align: middle;\n",
       "    }\n",
       "\n",
       "    .dataframe tbody tr th {\n",
       "        vertical-align: top;\n",
       "    }\n",
       "\n",
       "    .dataframe thead th {\n",
       "        text-align: right;\n",
       "    }\n",
       "</style>\n",
       "<table border=\"1\" class=\"dataframe\">\n",
       "  <thead>\n",
       "    <tr style=\"text-align: right;\">\n",
       "      <th></th>\n",
       "      <th>course_id</th>\n",
       "      <th>course_title</th>\n",
       "      <th>url</th>\n",
       "      <th>is_paid</th>\n",
       "      <th>price</th>\n",
       "      <th>num_subscribers</th>\n",
       "      <th>num_reviews</th>\n",
       "      <th>num_lectures</th>\n",
       "      <th>level</th>\n",
       "      <th>content_duration</th>\n",
       "      <th>published_timestamp</th>\n",
       "      <th>subject</th>\n",
       "      <th>profit</th>\n",
       "    </tr>\n",
       "  </thead>\n",
       "  <tbody>\n",
       "    <tr>\n",
       "      <th>0</th>\n",
       "      <td>1070968</td>\n",
       "      <td>Ultimate Investment Banking Course</td>\n",
       "      <td>https://www.udemy.com/ultimate-investment-bank...</td>\n",
       "      <td>True</td>\n",
       "      <td>200</td>\n",
       "      <td>2147</td>\n",
       "      <td>23</td>\n",
       "      <td>51</td>\n",
       "      <td>All Levels</td>\n",
       "      <td>1.5</td>\n",
       "      <td>2017-01-18T20:58:58Z</td>\n",
       "      <td>Business Finance</td>\n",
       "      <td>429400</td>\n",
       "    </tr>\n",
       "    <tr>\n",
       "      <th>1</th>\n",
       "      <td>1113822</td>\n",
       "      <td>Complete GST Course &amp; Certification - Grow You...</td>\n",
       "      <td>https://www.udemy.com/goods-and-services-tax/</td>\n",
       "      <td>True</td>\n",
       "      <td>75</td>\n",
       "      <td>2792</td>\n",
       "      <td>923</td>\n",
       "      <td>274</td>\n",
       "      <td>All Levels</td>\n",
       "      <td>39.0</td>\n",
       "      <td>2017-03-09T16:34:20Z</td>\n",
       "      <td>Business Finance</td>\n",
       "      <td>209400</td>\n",
       "    </tr>\n",
       "    <tr>\n",
       "      <th>2</th>\n",
       "      <td>1006314</td>\n",
       "      <td>Financial Modeling for Business Analysts and C...</td>\n",
       "      <td>https://www.udemy.com/financial-modeling-for-b...</td>\n",
       "      <td>True</td>\n",
       "      <td>45</td>\n",
       "      <td>2174</td>\n",
       "      <td>74</td>\n",
       "      <td>51</td>\n",
       "      <td>Intermediate Level</td>\n",
       "      <td>2.5</td>\n",
       "      <td>2016-12-19T19:26:30Z</td>\n",
       "      <td>Business Finance</td>\n",
       "      <td>97830</td>\n",
       "    </tr>\n",
       "    <tr>\n",
       "      <th>3</th>\n",
       "      <td>1210588</td>\n",
       "      <td>Beginner to Pro - Financial Analysis in Excel ...</td>\n",
       "      <td>https://www.udemy.com/complete-excel-finance-c...</td>\n",
       "      <td>True</td>\n",
       "      <td>95</td>\n",
       "      <td>2451</td>\n",
       "      <td>11</td>\n",
       "      <td>36</td>\n",
       "      <td>All Levels</td>\n",
       "      <td>3.0</td>\n",
       "      <td>2017-05-30T20:07:24Z</td>\n",
       "      <td>Business Finance</td>\n",
       "      <td>232845</td>\n",
       "    </tr>\n",
       "    <tr>\n",
       "      <th>4</th>\n",
       "      <td>1011058</td>\n",
       "      <td>How To Maximize Your Profits Trading Options</td>\n",
       "      <td>https://www.udemy.com/how-to-maximize-your-pro...</td>\n",
       "      <td>True</td>\n",
       "      <td>200</td>\n",
       "      <td>1276</td>\n",
       "      <td>45</td>\n",
       "      <td>26</td>\n",
       "      <td>Intermediate Level</td>\n",
       "      <td>2.0</td>\n",
       "      <td>2016-12-13T14:57:18Z</td>\n",
       "      <td>Business Finance</td>\n",
       "      <td>255200</td>\n",
       "    </tr>\n",
       "  </tbody>\n",
       "</table>\n",
       "</div>"
      ],
      "text/plain": [
       "   course_id                                       course_title  \\\n",
       "0    1070968                 Ultimate Investment Banking Course   \n",
       "1    1113822  Complete GST Course & Certification - Grow You...   \n",
       "2    1006314  Financial Modeling for Business Analysts and C...   \n",
       "3    1210588  Beginner to Pro - Financial Analysis in Excel ...   \n",
       "4    1011058       How To Maximize Your Profits Trading Options   \n",
       "\n",
       "                                                 url  is_paid  price  \\\n",
       "0  https://www.udemy.com/ultimate-investment-bank...     True    200   \n",
       "1      https://www.udemy.com/goods-and-services-tax/     True     75   \n",
       "2  https://www.udemy.com/financial-modeling-for-b...     True     45   \n",
       "3  https://www.udemy.com/complete-excel-finance-c...     True     95   \n",
       "4  https://www.udemy.com/how-to-maximize-your-pro...     True    200   \n",
       "\n",
       "   num_subscribers  num_reviews  num_lectures               level  \\\n",
       "0             2147           23            51          All Levels   \n",
       "1             2792          923           274          All Levels   \n",
       "2             2174           74            51  Intermediate Level   \n",
       "3             2451           11            36          All Levels   \n",
       "4             1276           45            26  Intermediate Level   \n",
       "\n",
       "   content_duration   published_timestamp           subject  profit  \n",
       "0               1.5  2017-01-18T20:58:58Z  Business Finance  429400  \n",
       "1              39.0  2017-03-09T16:34:20Z  Business Finance  209400  \n",
       "2               2.5  2016-12-19T19:26:30Z  Business Finance   97830  \n",
       "3               3.0  2017-05-30T20:07:24Z  Business Finance  232845  \n",
       "4               2.0  2016-12-13T14:57:18Z  Business Finance  255200  "
      ]
     },
     "execution_count": 54,
     "metadata": {},
     "output_type": "execute_result"
    }
   ],
   "source": [
    "df.head()"
   ]
  },
  {
   "cell_type": "code",
   "execution_count": 55,
   "metadata": {},
   "outputs": [
    {
     "data": {
      "text/plain": [
       "dtype('O')"
      ]
     },
     "execution_count": 55,
     "metadata": {},
     "output_type": "execute_result"
    }
   ],
   "source": [
    "df['published_timestamp'].dtype\n"
   ]
  },
  {
   "cell_type": "code",
   "execution_count": 56,
   "metadata": {},
   "outputs": [
    {
     "data": {
      "text/plain": [
       "0    2017-01-18T20:58:58Z\n",
       "1    2017-03-09T16:34:20Z\n",
       "2    2016-12-19T19:26:30Z\n",
       "3    2017-05-30T20:07:24Z\n",
       "4    2016-12-13T14:57:18Z\n",
       "Name: published_timestamp, dtype: object"
      ]
     },
     "execution_count": 56,
     "metadata": {},
     "output_type": "execute_result"
    }
   ],
   "source": [
    "df['published_timestamp'].head()"
   ]
  },
  {
   "cell_type": "code",
   "execution_count": 57,
   "metadata": {},
   "outputs": [
    {
     "data": {
      "text/plain": [
       "0       [2017-01-18, 20:58:58Z]\n",
       "1       [2017-03-09, 16:34:20Z]\n",
       "2       [2016-12-19, 19:26:30Z]\n",
       "3       [2017-05-30, 20:07:24Z]\n",
       "4       [2016-12-13, 14:57:18Z]\n",
       "                 ...           \n",
       "3673    [2016-06-14, 17:36:46Z]\n",
       "3674    [2017-03-10, 22:24:30Z]\n",
       "3675    [2015-12-30, 16:41:42Z]\n",
       "3676    [2016-08-11, 19:06:15Z]\n",
       "3677    [2014-09-28, 19:51:11Z]\n",
       "Name: published_timestamp, Length: 3678, dtype: object"
      ]
     },
     "execution_count": 57,
     "metadata": {},
     "output_type": "execute_result"
    }
   ],
   "source": [
    "df['published_timestamp'].str.split('T')"
   ]
  },
  {
   "cell_type": "code",
   "execution_count": 58,
   "metadata": {},
   "outputs": [],
   "source": [
    "df['published_date'] = df['published_timestamp'].str.split('T').str.get(0)"
   ]
  },
  {
   "cell_type": "code",
   "execution_count": 59,
   "metadata": {},
   "outputs": [
    {
     "data": {
      "text/plain": [
       "0       2017-01-18\n",
       "1       2017-03-09\n",
       "2       2016-12-19\n",
       "3       2017-05-30\n",
       "4       2016-12-13\n",
       "           ...    \n",
       "3673    2016-06-14\n",
       "3674    2017-03-10\n",
       "3675    2015-12-30\n",
       "3676    2016-08-11\n",
       "3677    2014-09-28\n",
       "Name: published_date, Length: 3678, dtype: object"
      ]
     },
     "execution_count": 59,
     "metadata": {},
     "output_type": "execute_result"
    }
   ],
   "source": [
    "df['published_date']"
   ]
  },
  {
   "cell_type": "code",
   "execution_count": 60,
   "metadata": {},
   "outputs": [],
   "source": [
    "from datetime import datetime\n",
    "def convert_to_dt(x):\n",
    "    mydate = datetime.strptime(x,'%Y-%m-%d')\n",
    "    result = mydate.strftime(\"%Y-%m-%d\")\n",
    "    return result"
   ]
  },
  {
   "cell_type": "code",
   "execution_count": 61,
   "metadata": {},
   "outputs": [],
   "source": [
    "df['published_date'] = df['published_date'].str.replace('3 hours','2017-01-18')"
   ]
  },
  {
   "cell_type": "code",
   "execution_count": 62,
   "metadata": {},
   "outputs": [
    {
     "data": {
      "text/plain": [
       "'2017-01-18'"
      ]
     },
     "execution_count": 62,
     "metadata": {},
     "output_type": "execute_result"
    }
   ],
   "source": [
    "convert_to_dt(\"2017-01-18\")"
   ]
  },
  {
   "cell_type": "code",
   "execution_count": 63,
   "metadata": {},
   "outputs": [
    {
     "data": {
      "text/plain": [
       "0       2017-01-18\n",
       "1       2017-03-09\n",
       "2       2016-12-19\n",
       "3       2017-05-30\n",
       "4       2016-12-13\n",
       "           ...    \n",
       "3673    2016-06-14\n",
       "3674    2017-03-10\n",
       "3675    2015-12-30\n",
       "3676    2016-08-11\n",
       "3677    2014-09-28\n",
       "Name: published_date, Length: 3678, dtype: object"
      ]
     },
     "execution_count": 63,
     "metadata": {},
     "output_type": "execute_result"
    }
   ],
   "source": [
    "df['published_date'].apply(lambda x: convert_to_dt(x))"
   ]
  },
  {
   "cell_type": "code",
   "execution_count": 64,
   "metadata": {},
   "outputs": [],
   "source": [
    "df['published_date'] = df['published_date'].apply(lambda x: convert_to_dt(x))"
   ]
  },
  {
   "cell_type": "code",
   "execution_count": 65,
   "metadata": {},
   "outputs": [
    {
     "data": {
      "text/plain": [
       "course_id                int64\n",
       "course_title            object\n",
       "url                     object\n",
       "is_paid                   bool\n",
       "price                    int64\n",
       "num_subscribers          int64\n",
       "num_reviews              int64\n",
       "num_lectures             int64\n",
       "level                   object\n",
       "content_duration       float64\n",
       "published_timestamp     object\n",
       "subject                 object\n",
       "profit                   int64\n",
       "published_date          object\n",
       "dtype: object"
      ]
     },
     "execution_count": 65,
     "metadata": {},
     "output_type": "execute_result"
    }
   ],
   "source": [
    "df.dtypes"
   ]
  },
  {
   "cell_type": "code",
   "execution_count": 66,
   "metadata": {},
   "outputs": [],
   "source": [
    "df['published_date'] = pd.to_datetime(df['published_date'],format=\"%Y-%m-%d\")"
   ]
  },
  {
   "cell_type": "code",
   "execution_count": 67,
   "metadata": {},
   "outputs": [
    {
     "data": {
      "text/plain": [
       "course_id                       int64\n",
       "course_title                   object\n",
       "url                            object\n",
       "is_paid                          bool\n",
       "price                           int64\n",
       "num_subscribers                 int64\n",
       "num_reviews                     int64\n",
       "num_lectures                    int64\n",
       "level                          object\n",
       "content_duration              float64\n",
       "published_timestamp            object\n",
       "subject                        object\n",
       "profit                          int64\n",
       "published_date         datetime64[ns]\n",
       "dtype: object"
      ]
     },
     "execution_count": 67,
     "metadata": {},
     "output_type": "execute_result"
    }
   ],
   "source": [
    "df.dtypes"
   ]
  },
  {
   "cell_type": "code",
   "execution_count": 68,
   "metadata": {},
   "outputs": [],
   "source": [
    "df['year'] = df['published_date'].dt.year\n",
    "df['month'] = df['published_date'].dt.month\n",
    "df['day'] = df['published_date'].dt.day\n"
   ]
  },
  {
   "cell_type": "code",
   "execution_count": 69,
   "metadata": {},
   "outputs": [
    {
     "data": {
      "text/plain": [
       "year  num_subscribers\n",
       "2011  3697               1\n",
       "      7014               1\n",
       "      12458              1\n",
       "      26673              1\n",
       "      69186              1\n",
       "                        ..\n",
       "2017  15276              1\n",
       "      16158              1\n",
       "      16829              1\n",
       "      17784              1\n",
       "      26742              1\n",
       "Name: num_subscribers, Length: 2893, dtype: int64"
      ]
     },
     "execution_count": 69,
     "metadata": {},
     "output_type": "execute_result"
    }
   ],
   "source": [
    "df.groupby('year')['num_subscribers'].value_counts()"
   ]
  },
  {
   "cell_type": "code",
   "execution_count": 70,
   "metadata": {},
   "outputs": [
    {
     "data": {
      "text/plain": [
       "<AxesSubplot:xlabel='year,num_subscribers'>"
      ]
     },
     "execution_count": 70,
     "metadata": {},
     "output_type": "execute_result"
    },
    {
     "data": {
      "image/png": "[encoded data removed]",
      "text/plain": [
       "<Figure size 432x288 with 1 Axes>"
      ]
     },
     "metadata": {
      "needs_background": "light"
     },
     "output_type": "display_data"
    }
   ],
   "source": [
    "# Plot of Sub Per Year\n",
    "df.groupby('year')['num_subscribers'].value_counts().plot(kind='bar')"
   ]
  },
  {
   "cell_type": "code",
   "execution_count": 71,
   "metadata": {},
   "outputs": [
    {
     "data": {
      "image/png": "[encoded data removed]",
      "text/plain": [
       "<Figure size 1440x720 with 1 Axes>"
      ]
     },
     "metadata": {
      "needs_background": "light"
     },
     "output_type": "display_data"
    }
   ],
   "source": [
    "plt.figure(figsize=(20,10))\n",
    "plt.title(\"Plot of Subscription Per Year Per Subject Category\")\n",
    "sns.lineplot(data=df,x='year',y='num_subscribers',hue='subject')\n",
    "plt.show()\n"
   ]
  },
  {
   "cell_type": "markdown",
   "metadata": {},
   "source": [
    "### Questions on Course Title\n",
    " - Course Title\n",
    " - What is the most frequent words in course title\n",
    " - Longest/Shortest course title\n",
    " - How can we build recommendation systems via title using similarity\n",
    " - Most famous courses by number of subscribers"
   ]
  },
  {
   "cell_type": "code",
   "execution_count": 72,
   "metadata": {},
   "outputs": [
    {
     "data": {
      "text/html": [
       "<div>\n",
       "<style scoped>\n",
       "    .dataframe tbody tr th:only-of-type {\n",
       "        vertical-align: middle;\n",
       "    }\n",
       "\n",
       "    .dataframe tbody tr th {\n",
       "        vertical-align: top;\n",
       "    }\n",
       "\n",
       "    .dataframe thead th {\n",
       "        text-align: right;\n",
       "    }\n",
       "</style>\n",
       "<table border=\"1\" class=\"dataframe\">\n",
       "  <thead>\n",
       "    <tr style=\"text-align: right;\">\n",
       "      <th></th>\n",
       "      <th>course_id</th>\n",
       "      <th>course_title</th>\n",
       "      <th>url</th>\n",
       "      <th>is_paid</th>\n",
       "      <th>price</th>\n",
       "      <th>num_subscribers</th>\n",
       "      <th>num_reviews</th>\n",
       "      <th>num_lectures</th>\n",
       "      <th>level</th>\n",
       "      <th>content_duration</th>\n",
       "      <th>published_timestamp</th>\n",
       "      <th>subject</th>\n",
       "      <th>profit</th>\n",
       "      <th>published_date</th>\n",
       "      <th>year</th>\n",
       "      <th>month</th>\n",
       "      <th>day</th>\n",
       "    </tr>\n",
       "  </thead>\n",
       "  <tbody>\n",
       "    <tr>\n",
       "      <th>0</th>\n",
       "      <td>1070968</td>\n",
       "      <td>Ultimate Investment Banking Course</td>\n",
       "      <td>https://www.udemy.com/ultimate-investment-bank...</td>\n",
       "      <td>True</td>\n",
       "      <td>200</td>\n",
       "      <td>2147</td>\n",
       "      <td>23</td>\n",
       "      <td>51</td>\n",
       "      <td>All Levels</td>\n",
       "      <td>1.5</td>\n",
       "      <td>2017-01-18T20:58:58Z</td>\n",
       "      <td>Business Finance</td>\n",
       "      <td>429400</td>\n",
       "      <td>2017-01-18</td>\n",
       "      <td>2017</td>\n",
       "      <td>1</td>\n",
       "      <td>18</td>\n",
       "    </tr>\n",
       "    <tr>\n",
       "      <th>1</th>\n",
       "      <td>1113822</td>\n",
       "      <td>Complete GST Course &amp; Certification - Grow You...</td>\n",
       "      <td>https://www.udemy.com/goods-and-services-tax/</td>\n",
       "      <td>True</td>\n",
       "      <td>75</td>\n",
       "      <td>2792</td>\n",
       "      <td>923</td>\n",
       "      <td>274</td>\n",
       "      <td>All Levels</td>\n",
       "      <td>39.0</td>\n",
       "      <td>2017-03-09T16:34:20Z</td>\n",
       "      <td>Business Finance</td>\n",
       "      <td>209400</td>\n",
       "      <td>2017-03-09</td>\n",
       "      <td>2017</td>\n",
       "      <td>3</td>\n",
       "      <td>9</td>\n",
       "    </tr>\n",
       "    <tr>\n",
       "      <th>2</th>\n",
       "      <td>1006314</td>\n",
       "      <td>Financial Modeling for Business Analysts and C...</td>\n",
       "      <td>https://www.udemy.com/financial-modeling-for-b...</td>\n",
       "      <td>True</td>\n",
       "      <td>45</td>\n",
       "      <td>2174</td>\n",
       "      <td>74</td>\n",
       "      <td>51</td>\n",
       "      <td>Intermediate Level</td>\n",
       "      <td>2.5</td>\n",
       "      <td>2016-12-19T19:26:30Z</td>\n",
       "      <td>Business Finance</td>\n",
       "      <td>97830</td>\n",
       "      <td>2016-12-19</td>\n",
       "      <td>2016</td>\n",
       "      <td>12</td>\n",
       "      <td>19</td>\n",
       "    </tr>\n",
       "    <tr>\n",
       "      <th>3</th>\n",
       "      <td>1210588</td>\n",
       "      <td>Beginner to Pro - Financial Analysis in Excel ...</td>\n",
       "      <td>https://www.udemy.com/complete-excel-finance-c...</td>\n",
       "      <td>True</td>\n",
       "      <td>95</td>\n",
       "      <td>2451</td>\n",
       "      <td>11</td>\n",
       "      <td>36</td>\n",
       "      <td>All Levels</td>\n",
       "      <td>3.0</td>\n",
       "      <td>2017-05-30T20:07:24Z</td>\n",
       "      <td>Business Finance</td>\n",
       "      <td>232845</td>\n",
       "      <td>2017-05-30</td>\n",
       "      <td>2017</td>\n",
       "      <td>5</td>\n",
       "      <td>30</td>\n",
       "    </tr>\n",
       "    <tr>\n",
       "      <th>4</th>\n",
       "      <td>1011058</td>\n",
       "      <td>How To Maximize Your Profits Trading Options</td>\n",
       "      <td>https://www.udemy.com/how-to-maximize-your-pro...</td>\n",
       "      <td>True</td>\n",
       "      <td>200</td>\n",
       "      <td>1276</td>\n",
       "      <td>45</td>\n",
       "      <td>26</td>\n",
       "      <td>Intermediate Level</td>\n",
       "      <td>2.0</td>\n",
       "      <td>2016-12-13T14:57:18Z</td>\n",
       "      <td>Business Finance</td>\n",
       "      <td>255200</td>\n",
       "      <td>2016-12-13</td>\n",
       "      <td>2016</td>\n",
       "      <td>12</td>\n",
       "      <td>13</td>\n",
       "    </tr>\n",
       "  </tbody>\n",
       "</table>\n",
       "</div>"
      ],
      "text/plain": [
       "   course_id                                       course_title  \\\n",
       "0    1070968                 Ultimate Investment Banking Course   \n",
       "1    1113822  Complete GST Course & Certification - Grow You...   \n",
       "2    1006314  Financial Modeling for Business Analysts and C...   \n",
       "3    1210588  Beginner to Pro - Financial Analysis in Excel ...   \n",
       "4    1011058       How To Maximize Your Profits Trading Options   \n",
       "\n",
       "                                                 url  is_paid  price  \\\n",
       "0  https://www.udemy.com/ultimate-investment-bank...     True    200   \n",
       "1      https://www.udemy.com/goods-and-services-tax/     True     75   \n",
       "2  https://www.udemy.com/financial-modeling-for-b...     True     45   \n",
       "3  https://www.udemy.com/complete-excel-finance-c...     True     95   \n",
       "4  https://www.udemy.com/how-to-maximize-your-pro...     True    200   \n",
       "\n",
       "   num_subscribers  num_reviews  num_lectures               level  \\\n",
       "0             2147           23            51          All Levels   \n",
       "1             2792          923           274          All Levels   \n",
       "2             2174           74            51  Intermediate Level   \n",
       "3             2451           11            36          All Levels   \n",
       "4             1276           45            26  Intermediate Level   \n",
       "\n",
       "   content_duration   published_timestamp           subject  profit  \\\n",
       "0               1.5  2017-01-18T20:58:58Z  Business Finance  429400   \n",
       "1              39.0  2017-03-09T16:34:20Z  Business Finance  209400   \n",
       "2               2.5  2016-12-19T19:26:30Z  Business Finance   97830   \n",
       "3               3.0  2017-05-30T20:07:24Z  Business Finance  232845   \n",
       "4               2.0  2016-12-13T14:57:18Z  Business Finance  255200   \n",
       "\n",
       "  published_date  year  month  day  \n",
       "0     2017-01-18  2017      1   18  \n",
       "1     2017-03-09  2017      3    9  \n",
       "2     2016-12-19  2016     12   19  \n",
       "3     2017-05-30  2017      5   30  \n",
       "4     2016-12-13  2016     12   13  "
      ]
     },
     "execution_count": 72,
     "metadata": {},
     "output_type": "execute_result"
    }
   ],
   "source": [
    "df.head()"
   ]
  },
  {
   "cell_type": "code",
   "execution_count": 73,
   "metadata": {
    "collapsed": true,
    "jupyter": {
     "outputs_hidden": true
    }
   },
   "outputs": [
    {
     "data": {
      "text/plain": [
       "0       34\n",
       "1       59\n",
       "2       56\n",
       "3       50\n",
       "4       44\n",
       "        ..\n",
       "3673    56\n",
       "3674    55\n",
       "3675    29\n",
       "3676    54\n",
       "3677    52\n",
       "Name: course_title, Length: 3678, dtype: int64"
      ]
     },
     "execution_count": 73,
     "metadata": {},
     "output_type": "execute_result"
    }
   ],
   "source": [
    "# Get the Longest Title for a course\n",
    "df['course_title'].str.len()\n"
   ]
  },
  {
   "cell_type": "code",
   "execution_count": 74,
   "metadata": {},
   "outputs": [],
   "source": [
    "# Get the Longest Title for a course\n",
    "df['course_title_len'] = df['course_title'].str.len()"
   ]
  },
  {
   "cell_type": "code",
   "execution_count": 75,
   "metadata": {},
   "outputs": [
    {
     "data": {
      "text/plain": [
       "243"
      ]
     },
     "execution_count": 75,
     "metadata": {},
     "output_type": "execute_result"
    }
   ],
   "source": [
    "# Get Longest title\n",
    "df['course_title_len'].max()"
   ]
  },
  {
   "cell_type": "code",
   "execution_count": 76,
   "metadata": {
    "collapsed": true,
    "jupyter": {
     "outputs_hidden": true
    }
   },
   "outputs": [
    {
     "data": {
      "text/plain": [
       "course_id                                                         337320\n",
       "course_title           Cash Flow Valuation: Develop Your Financial Li...\n",
       "url                     https://www.udemy.com/financial-literacy-basics/\n",
       "is_paid                                                             True\n",
       "price                                                                105\n",
       "num_subscribers                                                     2987\n",
       "num_reviews                                                           23\n",
       "num_lectures                                                          19\n",
       "level                                                         All Levels\n",
       "content_duration                                                       2\n",
       "published_timestamp                                 2014-12-22T13:39:16Z\n",
       "subject                                                 Business Finance\n",
       "profit                                                            313635\n",
       "published_date                                       2014-12-22 00:00:00\n",
       "year                                                                2014\n",
       "month                                                                 12\n",
       "day                                                                   22\n",
       "course_title_len                                                      52\n",
       "Name: 243, dtype: object"
      ]
     },
     "execution_count": 76,
     "metadata": {},
     "output_type": "execute_result"
    }
   ],
   "source": [
    "# Get tlocation\n",
    "df.iloc[243]"
   ]
  },
  {
   "cell_type": "markdown",
   "metadata": {},
   "source": [
    "### Keyword Extraction\n",
    "- Rake\n",
    "- Yakes\n",
    "- Collection"
   ]
  },
  {
   "cell_type": "code",
   "execution_count": 77,
   "metadata": {
    "collapsed": true,
    "jupyter": {
     "outputs_hidden": true
    }
   },
   "outputs": [
    {
     "data": {
      "text/plain": [
       "0                      Ultimate Investment Banking Course\n",
       "1       Complete GST Course & Certification - Grow You...\n",
       "2       Financial Modeling for Business Analysts and C...\n",
       "3       Beginner to Pro - Financial Analysis in Excel ...\n",
       "4            How To Maximize Your Profits Trading Options\n",
       "                              ...                        \n",
       "3673    Learn jQuery from Scratch - Master of JavaScri...\n",
       "3674    How To Design A WordPress Website With No Codi...\n",
       "3675                        Learn and Build using Polymer\n",
       "3676    CSS Animations: Create Amazing Effects on Your...\n",
       "3677    Using MODX CMS to Build Websites: A Beginner's...\n",
       "Name: course_title, Length: 3678, dtype: object"
      ]
     },
     "execution_count": 77,
     "metadata": {},
     "output_type": "execute_result"
    }
   ],
   "source": [
    "df['course_title']"
   ]
  },
  {
   "cell_type": "code",
   "execution_count": 78,
   "metadata": {},
   "outputs": [],
   "source": [
    "# Text Cleaning to remove stopwords\n",
    "import neattext.functions as nfx"
   ]
  },
  {
   "cell_type": "code",
   "execution_count": 79,
   "metadata": {
    "collapsed": true,
    "jupyter": {
     "outputs_hidden": true
    }
   },
   "outputs": [
    {
     "data": {
      "text/plain": [
       "['BTC_ADDRESS_REGEX',\n",
       " 'CURRENCY_REGEX',\n",
       " 'CURRENCY_SYMB_REGEX',\n",
       " 'Counter',\n",
       " 'DATE_REGEX',\n",
       " 'EMAIL_REGEX',\n",
       " 'EMOJI_REGEX',\n",
       " 'HASTAG_REGEX',\n",
       " 'MASTERCard_REGEX',\n",
       " 'MD5_SHA_REGEX',\n",
       " 'MOST_COMMON_PUNCT_REGEX',\n",
       " 'NUMBERS_REGEX',\n",
       " 'PHONE_REGEX',\n",
       " 'PoBOX_REGEX',\n",
       " 'SPECIAL_CHARACTERS_REGEX',\n",
       " 'STOPWORDS',\n",
       " 'STOPWORDS_de',\n",
       " 'STOPWORDS_en',\n",
       " 'STOPWORDS_es',\n",
       " 'STOPWORDS_fr',\n",
       " 'STOPWORDS_ru',\n",
       " 'STOPWORDS_yo',\n",
       " 'STREET_ADDRESS_REGEX',\n",
       " 'TextFrame',\n",
       " 'URL_PATTERN',\n",
       " 'USER_HANDLES_REGEX',\n",
       " 'VISACard_REGEX',\n",
       " '__builtins__',\n",
       " '__cached__',\n",
       " '__doc__',\n",
       " '__file__',\n",
       " '__generate_text',\n",
       " '__loader__',\n",
       " '__name__',\n",
       " '__numbers_dict',\n",
       " '__package__',\n",
       " '__spec__',\n",
       " '_lex_richness_herdan',\n",
       " '_lex_richness_maas_ttr',\n",
       " 'clean_text',\n",
       " 'defaultdict',\n",
       " 'digit2words',\n",
       " 'extract_btc_address',\n",
       " 'extract_currencies',\n",
       " 'extract_currency_symbols',\n",
       " 'extract_dates',\n",
       " 'extract_emails',\n",
       " 'extract_emojis',\n",
       " 'extract_hashtags',\n",
       " 'extract_html_tags',\n",
       " 'extract_mastercard_addr',\n",
       " 'extract_md5sha',\n",
       " 'extract_numbers',\n",
       " 'extract_pattern',\n",
       " 'extract_phone_numbers',\n",
       " 'extract_postoffice_box',\n",
       " 'extract_shortwords',\n",
       " 'extract_special_characters',\n",
       " 'extract_stopwords',\n",
       " 'extract_street_address',\n",
       " 'extract_terms_in_bracket',\n",
       " 'extract_urls',\n",
       " 'extract_userhandles',\n",
       " 'extract_visacard_addr',\n",
       " 'fix_contractions',\n",
       " 'generate_sentence',\n",
       " 'hamming_distance',\n",
       " 'inverse_df',\n",
       " 'lexical_richness',\n",
       " 'markov_chain',\n",
       " 'math',\n",
       " 'nlargest',\n",
       " 'normalize',\n",
       " 'num2words',\n",
       " 'random',\n",
       " 're',\n",
       " 'read_txt',\n",
       " 'remove_accents',\n",
       " 'remove_bad_quotes',\n",
       " 'remove_btc_address',\n",
       " 'remove_currencies',\n",
       " 'remove_currency_symbols',\n",
       " 'remove_custom_pattern',\n",
       " 'remove_custom_words',\n",
       " 'remove_dates',\n",
       " 'remove_emails',\n",
       " 'remove_emojis',\n",
       " 'remove_hashtags',\n",
       " 'remove_html_tags',\n",
       " 'remove_mastercard_addr',\n",
       " 'remove_md5sha',\n",
       " 'remove_multiple_spaces',\n",
       " 'remove_non_ascii',\n",
       " 'remove_numbers',\n",
       " 'remove_phone_numbers',\n",
       " 'remove_postoffice_box',\n",
       " 'remove_puncts',\n",
       " 'remove_punctuations',\n",
       " 'remove_shortwords',\n",
       " 'remove_special_characters',\n",
       " 'remove_stopwords',\n",
       " 'remove_street_address',\n",
       " 'remove_terms_in_bracket',\n",
       " 'remove_urls',\n",
       " 'remove_userhandles',\n",
       " 'remove_visacard_addr',\n",
       " 'replace_bad_quotes',\n",
       " 'replace_currencies',\n",
       " 'replace_currency_symbols',\n",
       " 'replace_dates',\n",
       " 'replace_emails',\n",
       " 'replace_emojis',\n",
       " 'replace_numbers',\n",
       " 'replace_phone_numbers',\n",
       " 'replace_special_characters',\n",
       " 'replace_term',\n",
       " 'replace_urls',\n",
       " 'string',\n",
       " 'term_freq',\n",
       " 'to_txt',\n",
       " 'unicodedata',\n",
       " 'word_freq',\n",
       " 'word_length_freq']"
      ]
     },
     "execution_count": 79,
     "metadata": {},
     "output_type": "execute_result"
    }
   ],
   "source": [
    "dir(nfx)\n"
   ]
  },
  {
   "cell_type": "code",
   "execution_count": 80,
   "metadata": {},
   "outputs": [],
   "source": [
    "df['clean_title'] = df['course_title'].apply(nfx.remove_stopwords)\n"
   ]
  },
  {
   "cell_type": "code",
   "execution_count": 81,
   "metadata": {},
   "outputs": [
    {
     "data": {
      "text/html": [
       "<div>\n",
       "<style scoped>\n",
       "    .dataframe tbody tr th:only-of-type {\n",
       "        vertical-align: middle;\n",
       "    }\n",
       "\n",
       "    .dataframe tbody tr th {\n",
       "        vertical-align: top;\n",
       "    }\n",
       "\n",
       "    .dataframe thead th {\n",
       "        text-align: right;\n",
       "    }\n",
       "</style>\n",
       "<table border=\"1\" class=\"dataframe\">\n",
       "  <thead>\n",
       "    <tr style=\"text-align: right;\">\n",
       "      <th></th>\n",
       "      <th>clean_title</th>\n",
       "      <th>course_title</th>\n",
       "    </tr>\n",
       "  </thead>\n",
       "  <tbody>\n",
       "    <tr>\n",
       "      <th>0</th>\n",
       "      <td>Ultimate Investment Banking Course</td>\n",
       "      <td>Ultimate Investment Banking Course</td>\n",
       "    </tr>\n",
       "    <tr>\n",
       "      <th>1</th>\n",
       "      <td>Complete GST Course &amp; Certification - Grow Pra...</td>\n",
       "      <td>Complete GST Course &amp; Certification - Grow You...</td>\n",
       "    </tr>\n",
       "    <tr>\n",
       "      <th>2</th>\n",
       "      <td>Financial Modeling Business Analysts Consultants</td>\n",
       "      <td>Financial Modeling for Business Analysts and C...</td>\n",
       "    </tr>\n",
       "    <tr>\n",
       "      <th>3</th>\n",
       "      <td>Beginner Pro - Financial Analysis Excel 2017</td>\n",
       "      <td>Beginner to Pro - Financial Analysis in Excel ...</td>\n",
       "    </tr>\n",
       "    <tr>\n",
       "      <th>4</th>\n",
       "      <td>Maximize Profits Trading Options</td>\n",
       "      <td>How To Maximize Your Profits Trading Options</td>\n",
       "    </tr>\n",
       "    <tr>\n",
       "      <th>...</th>\n",
       "      <td>...</td>\n",
       "      <td>...</td>\n",
       "    </tr>\n",
       "    <tr>\n",
       "      <th>3673</th>\n",
       "      <td>Learn jQuery Scratch - Master JavaScript library</td>\n",
       "      <td>Learn jQuery from Scratch - Master of JavaScri...</td>\n",
       "    </tr>\n",
       "    <tr>\n",
       "      <th>3674</th>\n",
       "      <td>Design WordPress Website Coding</td>\n",
       "      <td>How To Design A WordPress Website With No Codi...</td>\n",
       "    </tr>\n",
       "    <tr>\n",
       "      <th>3675</th>\n",
       "      <td>Learn Build Polymer</td>\n",
       "      <td>Learn and Build using Polymer</td>\n",
       "    </tr>\n",
       "    <tr>\n",
       "      <th>3676</th>\n",
       "      <td>CSS Animations: Create Amazing Effects Website</td>\n",
       "      <td>CSS Animations: Create Amazing Effects on Your...</td>\n",
       "    </tr>\n",
       "    <tr>\n",
       "      <th>3677</th>\n",
       "      <td>MODX CMS Build Websites: Beginner's Guide</td>\n",
       "      <td>Using MODX CMS to Build Websites: A Beginner's...</td>\n",
       "    </tr>\n",
       "  </tbody>\n",
       "</table>\n",
       "<p>3678 rows × 2 columns</p>\n",
       "</div>"
      ],
      "text/plain": [
       "                                            clean_title  \\\n",
       "0                    Ultimate Investment Banking Course   \n",
       "1     Complete GST Course & Certification - Grow Pra...   \n",
       "2      Financial Modeling Business Analysts Consultants   \n",
       "3          Beginner Pro - Financial Analysis Excel 2017   \n",
       "4                      Maximize Profits Trading Options   \n",
       "...                                                 ...   \n",
       "3673   Learn jQuery Scratch - Master JavaScript library   \n",
       "3674                    Design WordPress Website Coding   \n",
       "3675                                Learn Build Polymer   \n",
       "3676     CSS Animations: Create Amazing Effects Website   \n",
       "3677          MODX CMS Build Websites: Beginner's Guide   \n",
       "\n",
       "                                           course_title  \n",
       "0                    Ultimate Investment Banking Course  \n",
       "1     Complete GST Course & Certification - Grow You...  \n",
       "2     Financial Modeling for Business Analysts and C...  \n",
       "3     Beginner to Pro - Financial Analysis in Excel ...  \n",
       "4          How To Maximize Your Profits Trading Options  \n",
       "...                                                 ...  \n",
       "3673  Learn jQuery from Scratch - Master of JavaScri...  \n",
       "3674  How To Design A WordPress Website With No Codi...  \n",
       "3675                      Learn and Build using Polymer  \n",
       "3676  CSS Animations: Create Amazing Effects on Your...  \n",
       "3677  Using MODX CMS to Build Websites: A Beginner's...  \n",
       "\n",
       "[3678 rows x 2 columns]"
      ]
     },
     "execution_count": 81,
     "metadata": {},
     "output_type": "execute_result"
    }
   ],
   "source": [
    "df[['clean_title','course_title']]\n"
   ]
  },
  {
   "cell_type": "code",
   "execution_count": 82,
   "metadata": {},
   "outputs": [],
   "source": [
    "df['clean_title'] = df['clean_title'].apply(nfx.remove_special_characters)\n"
   ]
  },
  {
   "cell_type": "code",
   "execution_count": 83,
   "metadata": {},
   "outputs": [
    {
     "data": {
      "text/plain": [
       "0                      Ultimate Investment Banking Course\n",
       "1       Complete GST Course  Certification  Grow Practice\n",
       "2        Financial Modeling Business Analysts Consultants\n",
       "3             Beginner Pro  Financial Analysis Excel 2017\n",
       "4                        Maximize Profits Trading Options\n",
       "                              ...                        \n",
       "3673      Learn jQuery Scratch  Master JavaScript library\n",
       "3674                      Design WordPress Website Coding\n",
       "3675                                  Learn Build Polymer\n",
       "3676        CSS Animations Create Amazing Effects Website\n",
       "3677              MODX CMS Build Websites Beginners Guide\n",
       "Name: clean_title, Length: 3678, dtype: object"
      ]
     },
     "execution_count": 83,
     "metadata": {},
     "output_type": "execute_result"
    }
   ],
   "source": [
    "df['clean_title']"
   ]
  },
  {
   "cell_type": "code",
   "execution_count": 84,
   "metadata": {},
   "outputs": [],
   "source": [
    "# Tokenization\n",
    "all_title_list = df['clean_title'].to_list()"
   ]
  },
  {
   "cell_type": "code",
   "execution_count": 85,
   "metadata": {
    "collapsed": true,
    "jupyter": {
     "outputs_hidden": true
    }
   },
   "outputs": [
    {
     "data": {
      "text/plain": [
       "['Complete GST Course  Certification  Grow Practice',\n",
       " 'Financial Modeling Business Analysts Consultants',\n",
       " 'Beginner Pro  Financial Analysis Excel 2017',\n",
       " 'Maximize Profits Trading Options',\n",
       " 'Trading Penny Stocks Guide Levels 2017',\n",
       " 'Investing Trading Beginners Mastering Price Charts',\n",
       " 'Trading Stock Chart Patterns Immediate Explosive Gains',\n",
       " 'Options Trading 3  Advanced Stock Profit Success Method',\n",
       " 'Investment Strategy Need Retirement',\n",
       " 'Forex Trading Secrets Pros Amazons AWS',\n",
       " 'Trading Options Money Flow',\n",
       " 'Financial Management Risk Return Securities',\n",
       " 'Forex Trading Course Work Smarter Harder Proven Results',\n",
       " 'Python Algo Trading Sentiment Trading News',\n",
       " 'Short Selling Learn Sell Stocks Fall',\n",
       " 'Basic Technical Analysis Learn structure market',\n",
       " 'Complete Chart Pattern Trading Course Proven Approach',\n",
       " '7 Deadly Mistakes Investing Slash Profits',\n",
       " 'Financial Statements Easy',\n",
       " 'Winning Forex Trading Live Forex Trading Examples',\n",
       " 'Forex Traders  Create Trading Robot Coding',\n",
       " 'Create Business Home Trading Stocks Today 2017',\n",
       " 'Introduction Accounting  Mastering Financial Statements',\n",
       " 'Complete Ethereum Course 01 Ether Wallet',\n",
       " 'Beginner Pro PowerPoint Complete PowerPoint Training',\n",
       " 'Investing 101 Complete Online Investing Course',\n",
       " 'Create Hedge Fund Trade Stocks Like Fund Manager',\n",
       " 'Learn MQL5 Build 8Currency Hedging Robot MetaTrader 5',\n",
       " 'Forex Trading Complete Guide Started Like Pro',\n",
       " 'Python Algo Stock Trading Automate Trading',\n",
       " 'Forex Robot Incredible ROI Robot Included',\n",
       " 'Complete Bitcoin Course 001 Bitcoin Wallet',\n",
       " 'Mastering High Probability Iron Condor Options Trading',\n",
       " 'Complete Short Course Ethereum',\n",
       " 'Options Trading Stocks Proven Toolbox Financial Success',\n",
       " 'Forex Trading AZ  LIVE Examples Forex Trading',\n",
       " 'Introduction Finance Accounting Modeling Valuation',\n",
       " 'Beginner Pro Excel Financial Modeling Valuation',\n",
       " 'Complete Investment Banking Course 2017',\n",
       " 'Complete Financial Analyst Course 2017',\n",
       " 'Python Finance Investment Fundamentals  Data Analytics',\n",
       " 'Financial Modeling Startups  Small Businesses',\n",
       " 'Options Trading  Win Weekly Options',\n",
       " 'Black Algo Trading Build Trading Robot',\n",
       " 'Accounting  Financial Statement Analysis Complete Training',\n",
       " 'Cryptocurrency Trading Complete Guide Trading Altcoins',\n",
       " 'Forex Robots Expect Earn 175 PA Forex Robot Included',\n",
       " 'Steps Trading  Live Trading  Real Account',\n",
       " 'Option Trading Rookies Understand Options Completely',\n",
       " 'Learned Stock Trading and Too',\n",
       " 'Learn Trade Profit Find Trade Winning Stocks',\n",
       " 'Trading Inside Bars  Master 1 Easy Pattern Successful',\n",
       " 'Fundamentals Financial Planning',\n",
       " 'Options Trading  Calendar Spread Course Trader',\n",
       " 'Dividend Investing Build Portfolio Better Future',\n",
       " 'Learn Accounting Understand Business',\n",
       " 'Consistently Win Trading Stocks 30 Days',\n",
       " 'Beginners Guide Quantopian Futures API',\n",
       " 'Buy Cheap Options  Options Trading Pricing Model',\n",
       " 'Excel Crash Course Master Excel Financial Analysis',\n",
       " 'Comprehensive Guide Financial Markets Investing Trading',\n",
       " 'Stock Trading Ninja Complete System Trading Success',\n",
       " 'Hedge Mutual Fund Careers Complete Guide',\n",
       " 'Algorithmic Trading Forex Create Forex Robot',\n",
       " 'Power Modeling Bootcamp Advanced Excel 10 Days',\n",
       " 'Options Trading Basics 3Course Bundle',\n",
       " 'Win 97 Options Trades',\n",
       " 'Consistent Returns Trading Options',\n",
       " 'Forex Strategies Kelly Criterion Larry Williams more',\n",
       " 'Elite Trend Trader Learn Trade Stocks Options  Forex',\n",
       " 'Options Trading Introduction Day Trade Stock Options',\n",
       " 'Perfect Options Trading Strategy System  Unique',\n",
       " 'Forex Trading  Learn Trade Forex Like Banks',\n",
       " 'Learn Trade ProfitTrading Japanese Candlesticks',\n",
       " 'Powerful Options Spread Trading Ratio Spread',\n",
       " 'Finance Job You Explanation 14 Finance Roles',\n",
       " 'Blueprint Successful Stock Trading',\n",
       " 'Trading Beginners  Intermediate Level',\n",
       " 'Start Trading Stocks Technical Analysis',\n",
       " 'Learn Set Incubator Hedge Fund  StepbyStep',\n",
       " 'VPS Forex Trading  Protect Forex Robots',\n",
       " 'Introduction Accounting Language Business',\n",
       " 'Basic Excel Basic Bookkeeping Accounting',\n",
       " 'The Greeks Understand Options',\n",
       " 'Trading Options Consistent Returns Calendar Spreads',\n",
       " 'Create Personal Budget',\n",
       " 'Complete Value Investing Course Proven Approach',\n",
       " 'FOREX Trading Price Action',\n",
       " 'Emini ES Futures  Advanced Non Directional Options Trading',\n",
       " 'Forex Trading  Advanced Fundamental Analysis',\n",
       " 'Invest Tiny Capital Stocks ',\n",
       " 'Learn Successfully Trade Stocks 5 Simple Steps',\n",
       " 'Forex MetaTrader 4 Master MT4 Like Pro Forex Trader',\n",
       " 'Intermediate Options trading concepts Stocks Options',\n",
       " 'Options Trading 101 Basics',\n",
       " 'Practical Accounts APP Overview',\n",
       " 'Bitcoin Profits Beginners',\n",
       " 'Trend Traders Club Find Trade Fast Moving Trends',\n",
       " 'Financial Statements Basics']"
      ]
     },
     "execution_count": 85,
     "metadata": {},
     "output_type": "execute_result"
    }
   ],
   "source": [
    "all_title_list[1:100]"
   ]
  },
  {
   "cell_type": "code",
   "execution_count": 86,
   "metadata": {
    "collapsed": true,
    "jupyter": {
     "outputs_hidden": true
    }
   },
   "outputs": [
    {
     "name": "stdout",
     "output_type": "stream",
     "text": [
      "['Complete', 'GST', 'Course', 'Certification', 'Grow', 'Practice']\n",
      "Complete\n",
      "GST\n",
      "Course\n",
      "Certification\n",
      "Grow\n",
      "Practice\n",
      "['Financial', 'Modeling', 'Business', 'Analysts', 'Consultants']\n",
      "Financial\n",
      "Modeling\n",
      "Business\n",
      "Analysts\n",
      "Consultants\n",
      "['Beginner', 'Pro', 'Financial', 'Analysis', 'Excel', '2017']\n",
      "Beginner\n",
      "Pro\n",
      "Financial\n",
      "Analysis\n",
      "Excel\n",
      "2017\n",
      "['Maximize', 'Profits', 'Trading', 'Options']\n",
      "Maximize\n",
      "Profits\n",
      "Trading\n",
      "Options\n"
     ]
    }
   ],
   "source": [
    "for line in all_title_list[1:5]:\n",
    "    print(line.split())\n",
    "    for i in line.split():\n",
    "        print(i)"
   ]
  },
  {
   "cell_type": "code",
   "execution_count": 87,
   "metadata": {},
   "outputs": [],
   "source": [
    "# Convert list to tokens\n",
    "all_tokens = [i for line in all_title_list for i in line.split()]\n"
   ]
  },
  {
   "cell_type": "code",
   "execution_count": 88,
   "metadata": {
    "collapsed": true,
    "jupyter": {
     "outputs_hidden": true
    }
   },
   "outputs": [
    {
     "data": {
      "text/plain": [
       "['Ultimate',\n",
       " 'Investment',\n",
       " 'Banking',\n",
       " 'Course',\n",
       " 'Complete',\n",
       " 'GST',\n",
       " 'Course',\n",
       " 'Certification',\n",
       " 'Grow',\n",
       " 'Practice',\n",
       " 'Financial',\n",
       " 'Modeling',\n",
       " 'Business',\n",
       " 'Analysts',\n",
       " 'Consultants',\n",
       " 'Beginner',\n",
       " 'Pro',\n",
       " 'Financial',\n",
       " 'Analysis',\n",
       " 'Excel',\n",
       " '2017',\n",
       " 'Maximize',\n",
       " 'Profits',\n",
       " 'Trading',\n",
       " 'Options',\n",
       " 'Trading',\n",
       " 'Penny',\n",
       " 'Stocks',\n",
       " 'Guide',\n",
       " 'Levels',\n",
       " '2017',\n",
       " 'Investing',\n",
       " 'Trading',\n",
       " 'Beginners',\n",
       " 'Mastering',\n",
       " 'Price',\n",
       " 'Charts',\n",
       " 'Trading',\n",
       " 'Stock',\n",
       " 'Chart',\n",
       " 'Patterns',\n",
       " 'Immediate',\n",
       " 'Explosive',\n",
       " 'Gains',\n",
       " 'Options',\n",
       " 'Trading',\n",
       " '3',\n",
       " 'Advanced',\n",
       " 'Stock',\n",
       " 'Profit',\n",
       " 'Success',\n",
       " 'Method',\n",
       " 'Investment',\n",
       " 'Strategy',\n",
       " 'Need',\n",
       " 'Retirement',\n",
       " 'Forex',\n",
       " 'Trading',\n",
       " 'Secrets',\n",
       " 'Pros',\n",
       " 'Amazons',\n",
       " 'AWS',\n",
       " 'Trading',\n",
       " 'Options',\n",
       " 'Money',\n",
       " 'Flow',\n",
       " 'Financial',\n",
       " 'Management',\n",
       " 'Risk',\n",
       " 'Return',\n",
       " 'Securities',\n",
       " 'Forex',\n",
       " 'Trading',\n",
       " 'Course',\n",
       " 'Work',\n",
       " 'Smarter',\n",
       " 'Harder',\n",
       " 'Proven',\n",
       " 'Results',\n",
       " 'Python',\n",
       " 'Algo',\n",
       " 'Trading',\n",
       " 'Sentiment',\n",
       " 'Trading',\n",
       " 'News',\n",
       " 'Short',\n",
       " 'Selling',\n",
       " 'Learn',\n",
       " 'Sell',\n",
       " 'Stocks',\n",
       " 'Fall',\n",
       " 'Basic',\n",
       " 'Technical',\n",
       " 'Analysis',\n",
       " 'Learn',\n",
       " 'structure',\n",
       " 'market',\n",
       " 'Complete',\n",
       " 'Chart',\n",
       " 'Pattern',\n",
       " 'Trading',\n",
       " 'Course',\n",
       " 'Proven',\n",
       " 'Approach',\n",
       " '7',\n",
       " 'Deadly',\n",
       " 'Mistakes',\n",
       " 'Investing',\n",
       " 'Slash',\n",
       " 'Profits',\n",
       " 'Financial',\n",
       " 'Statements',\n",
       " 'Easy',\n",
       " 'Winning',\n",
       " 'Forex',\n",
       " 'Trading',\n",
       " 'Live',\n",
       " 'Forex',\n",
       " 'Trading',\n",
       " 'Examples',\n",
       " 'Forex',\n",
       " 'Traders',\n",
       " 'Create',\n",
       " 'Trading',\n",
       " 'Robot',\n",
       " 'Coding',\n",
       " 'Create',\n",
       " 'Business',\n",
       " 'Home',\n",
       " 'Trading',\n",
       " 'Stocks',\n",
       " 'Today',\n",
       " '2017',\n",
       " 'Introduction',\n",
       " 'Accounting',\n",
       " 'Mastering',\n",
       " 'Financial',\n",
       " 'Statements',\n",
       " 'Complete',\n",
       " 'Ethereum',\n",
       " 'Course',\n",
       " '01',\n",
       " 'Ether',\n",
       " 'Wallet',\n",
       " 'Beginner',\n",
       " 'Pro',\n",
       " 'PowerPoint',\n",
       " 'Complete',\n",
       " 'PowerPoint',\n",
       " 'Training',\n",
       " 'Investing',\n",
       " '101',\n",
       " 'Complete',\n",
       " 'Online',\n",
       " 'Investing',\n",
       " 'Course',\n",
       " 'Create',\n",
       " 'Hedge',\n",
       " 'Fund',\n",
       " 'Trade',\n",
       " 'Stocks',\n",
       " 'Like',\n",
       " 'Fund',\n",
       " 'Manager',\n",
       " 'Learn',\n",
       " 'MQL5',\n",
       " 'Build',\n",
       " '8Currency',\n",
       " 'Hedging',\n",
       " 'Robot',\n",
       " 'MetaTrader',\n",
       " '5',\n",
       " 'Forex',\n",
       " 'Trading',\n",
       " 'Complete',\n",
       " 'Guide',\n",
       " 'Started',\n",
       " 'Like',\n",
       " 'Pro',\n",
       " 'Python',\n",
       " 'Algo',\n",
       " 'Stock',\n",
       " 'Trading',\n",
       " 'Automate',\n",
       " 'Trading',\n",
       " 'Forex',\n",
       " 'Robot',\n",
       " 'Incredible',\n",
       " 'ROI',\n",
       " 'Robot',\n",
       " 'Included',\n",
       " 'Complete',\n",
       " 'Bitcoin',\n",
       " 'Course',\n",
       " '001',\n",
       " 'Bitcoin',\n",
       " 'Wallet',\n",
       " 'Mastering',\n",
       " 'High',\n",
       " 'Probability',\n",
       " 'Iron',\n",
       " 'Condor',\n",
       " 'Options',\n",
       " 'Trading',\n",
       " 'Complete',\n",
       " 'Short',\n",
       " 'Course',\n",
       " 'Ethereum',\n",
       " 'Options',\n",
       " 'Trading',\n",
       " 'Stocks',\n",
       " 'Proven',\n",
       " 'Toolbox',\n",
       " 'Financial',\n",
       " 'Success',\n",
       " 'Forex',\n",
       " 'Trading',\n",
       " 'AZ',\n",
       " 'LIVE',\n",
       " 'Examples',\n",
       " 'Forex',\n",
       " 'Trading',\n",
       " 'Introduction',\n",
       " 'Finance',\n",
       " 'Accounting',\n",
       " 'Modeling',\n",
       " 'Valuation',\n",
       " 'Beginner',\n",
       " 'Pro',\n",
       " 'Excel',\n",
       " 'Financial',\n",
       " 'Modeling',\n",
       " 'Valuation',\n",
       " 'Complete',\n",
       " 'Investment',\n",
       " 'Banking',\n",
       " 'Course',\n",
       " '2017',\n",
       " 'Complete',\n",
       " 'Financial',\n",
       " 'Analyst',\n",
       " 'Course',\n",
       " '2017',\n",
       " 'Python',\n",
       " 'Finance',\n",
       " 'Investment',\n",
       " 'Fundamentals',\n",
       " 'Data',\n",
       " 'Analytics',\n",
       " 'Financial',\n",
       " 'Modeling',\n",
       " 'Startups',\n",
       " 'Small',\n",
       " 'Businesses',\n",
       " 'Options',\n",
       " 'Trading',\n",
       " 'Win',\n",
       " 'Weekly',\n",
       " 'Options',\n",
       " 'Black',\n",
       " 'Algo',\n",
       " 'Trading',\n",
       " 'Build',\n",
       " 'Trading',\n",
       " 'Robot',\n",
       " 'Accounting',\n",
       " 'Financial',\n",
       " 'Statement',\n",
       " 'Analysis',\n",
       " 'Complete',\n",
       " 'Training',\n",
       " 'Cryptocurrency',\n",
       " 'Trading',\n",
       " 'Complete',\n",
       " 'Guide',\n",
       " 'Trading',\n",
       " 'Altcoins',\n",
       " 'Forex',\n",
       " 'Robots',\n",
       " 'Expect',\n",
       " 'Earn',\n",
       " '175',\n",
       " 'PA',\n",
       " 'Forex',\n",
       " 'Robot',\n",
       " 'Included',\n",
       " 'Steps',\n",
       " 'Trading',\n",
       " 'Live',\n",
       " 'Trading',\n",
       " 'Real',\n",
       " 'Account',\n",
       " 'Option',\n",
       " 'Trading',\n",
       " 'Rookies',\n",
       " 'Understand',\n",
       " 'Options',\n",
       " 'Completely',\n",
       " 'Learned',\n",
       " 'Stock',\n",
       " 'Trading',\n",
       " 'and',\n",
       " 'Too',\n",
       " 'Learn',\n",
       " 'Trade',\n",
       " 'Profit',\n",
       " 'Find',\n",
       " 'Trade',\n",
       " 'Winning',\n",
       " 'Stocks',\n",
       " 'Trading',\n",
       " 'Inside',\n",
       " 'Bars',\n",
       " 'Master',\n",
       " '1',\n",
       " 'Easy',\n",
       " 'Pattern',\n",
       " 'Successful',\n",
       " 'Fundamentals',\n",
       " 'Financial',\n",
       " 'Planning',\n",
       " 'Options',\n",
       " 'Trading',\n",
       " 'Calendar',\n",
       " 'Spread',\n",
       " 'Course',\n",
       " 'Trader',\n",
       " 'Dividend',\n",
       " 'Investing',\n",
       " 'Build',\n",
       " 'Portfolio',\n",
       " 'Better',\n",
       " 'Future',\n",
       " 'Learn',\n",
       " 'Accounting',\n",
       " 'Understand',\n",
       " 'Business',\n",
       " 'Consistently',\n",
       " 'Win',\n",
       " 'Trading',\n",
       " 'Stocks',\n",
       " '30',\n",
       " 'Days',\n",
       " 'Beginners',\n",
       " 'Guide',\n",
       " 'Quantopian',\n",
       " 'Futures',\n",
       " 'API',\n",
       " 'Buy',\n",
       " 'Cheap',\n",
       " 'Options',\n",
       " 'Options',\n",
       " 'Trading',\n",
       " 'Pricing',\n",
       " 'Model',\n",
       " 'Excel',\n",
       " 'Crash',\n",
       " 'Course',\n",
       " 'Master',\n",
       " 'Excel',\n",
       " 'Financial',\n",
       " 'Analysis',\n",
       " 'Comprehensive',\n",
       " 'Guide',\n",
       " 'Financial',\n",
       " 'Markets',\n",
       " 'Investing',\n",
       " 'Trading',\n",
       " 'Stock',\n",
       " 'Trading',\n",
       " 'Ninja',\n",
       " 'Complete',\n",
       " 'System',\n",
       " 'Trading',\n",
       " 'Success',\n",
       " 'Hedge',\n",
       " 'Mutual',\n",
       " 'Fund',\n",
       " 'Careers',\n",
       " 'Complete',\n",
       " 'Guide',\n",
       " 'Algorithmic',\n",
       " 'Trading',\n",
       " 'Forex',\n",
       " 'Create',\n",
       " 'Forex',\n",
       " 'Robot',\n",
       " 'Power',\n",
       " 'Modeling',\n",
       " 'Bootcamp',\n",
       " 'Advanced',\n",
       " 'Excel',\n",
       " '10',\n",
       " 'Days',\n",
       " 'Options',\n",
       " 'Trading',\n",
       " 'Basics',\n",
       " '3Course',\n",
       " 'Bundle',\n",
       " 'Win',\n",
       " '97',\n",
       " 'Options',\n",
       " 'Trades',\n",
       " 'Consistent',\n",
       " 'Returns',\n",
       " 'Trading',\n",
       " 'Options',\n",
       " 'Forex',\n",
       " 'Strategies',\n",
       " 'Kelly',\n",
       " 'Criterion',\n",
       " 'Larry',\n",
       " 'Williams',\n",
       " 'more',\n",
       " 'Elite',\n",
       " 'Trend',\n",
       " 'Trader',\n",
       " 'Learn',\n",
       " 'Trade',\n",
       " 'Stocks',\n",
       " 'Options',\n",
       " 'Forex',\n",
       " 'Options',\n",
       " 'Trading',\n",
       " 'Introduction',\n",
       " 'Day',\n",
       " 'Trade',\n",
       " 'Stock',\n",
       " 'Options',\n",
       " 'Perfect',\n",
       " 'Options',\n",
       " 'Trading',\n",
       " 'Strategy',\n",
       " 'System',\n",
       " 'Unique',\n",
       " 'Forex',\n",
       " 'Trading',\n",
       " 'Learn',\n",
       " 'Trade',\n",
       " 'Forex',\n",
       " 'Like',\n",
       " 'Banks',\n",
       " 'Learn',\n",
       " 'Trade',\n",
       " 'ProfitTrading',\n",
       " 'Japanese',\n",
       " 'Candlesticks',\n",
       " 'Powerful',\n",
       " 'Options',\n",
       " 'Spread',\n",
       " 'Trading',\n",
       " 'Ratio',\n",
       " 'Spread',\n",
       " 'Finance',\n",
       " 'Job',\n",
       " 'You',\n",
       " 'Explanation',\n",
       " '14',\n",
       " 'Finance',\n",
       " 'Roles',\n",
       " 'Blueprint',\n",
       " 'Successful',\n",
       " 'Stock',\n",
       " 'Trading',\n",
       " 'Trading',\n",
       " 'Beginners',\n",
       " 'Intermediate',\n",
       " 'Level',\n",
       " 'Start',\n",
       " 'Trading',\n",
       " 'Stocks',\n",
       " 'Technical',\n",
       " 'Analysis',\n",
       " 'Learn',\n",
       " 'Set',\n",
       " 'Incubator',\n",
       " 'Hedge',\n",
       " 'Fund',\n",
       " 'StepbyStep',\n",
       " 'VPS',\n",
       " 'Forex',\n",
       " 'Trading',\n",
       " 'Protect',\n",
       " 'Forex',\n",
       " 'Robots',\n",
       " 'Introduction',\n",
       " 'Accounting',\n",
       " 'Language',\n",
       " 'Business',\n",
       " 'Basic',\n",
       " 'Excel',\n",
       " 'Basic',\n",
       " 'Bookkeeping',\n",
       " 'Accounting',\n",
       " 'The',\n",
       " 'Greeks',\n",
       " 'Understand',\n",
       " 'Options',\n",
       " 'Trading',\n",
       " 'Options',\n",
       " 'Consistent',\n",
       " 'Returns',\n",
       " 'Calendar',\n",
       " 'Spreads',\n",
       " 'Create',\n",
       " 'Personal',\n",
       " 'Budget',\n",
       " 'Complete',\n",
       " 'Value',\n",
       " 'Investing',\n",
       " 'Course',\n",
       " 'Proven',\n",
       " 'Approach',\n",
       " 'FOREX',\n",
       " 'Trading',\n",
       " 'Price',\n",
       " 'Action',\n",
       " 'Emini',\n",
       " 'ES',\n",
       " 'Futures',\n",
       " 'Advanced',\n",
       " 'Non',\n",
       " 'Directional',\n",
       " 'Options',\n",
       " 'Trading',\n",
       " 'Forex',\n",
       " 'Trading',\n",
       " 'Advanced',\n",
       " 'Fundamental',\n",
       " 'Analysis',\n",
       " 'Invest',\n",
       " 'Tiny',\n",
       " 'Capital',\n",
       " 'Stocks',\n",
       " 'Learn',\n",
       " 'Successfully',\n",
       " 'Trade',\n",
       " 'Stocks',\n",
       " '5',\n",
       " 'Simple',\n",
       " 'Steps',\n",
       " 'Forex',\n",
       " 'MetaTrader',\n",
       " '4',\n",
       " 'Master',\n",
       " 'MT4',\n",
       " 'Like',\n",
       " 'Pro',\n",
       " 'Forex',\n",
       " 'Trader',\n",
       " 'Intermediate',\n",
       " 'Options',\n",
       " 'trading',\n",
       " 'concepts',\n",
       " 'Stocks',\n",
       " 'Options',\n",
       " 'Options',\n",
       " 'Trading',\n",
       " '101',\n",
       " 'Basics',\n",
       " 'Practical',\n",
       " 'Accounts',\n",
       " 'APP',\n",
       " 'Overview',\n",
       " 'Bitcoin',\n",
       " 'Profits',\n",
       " 'Beginners',\n",
       " 'Trend',\n",
       " 'Traders',\n",
       " 'Club',\n",
       " 'Find',\n",
       " 'Trade',\n",
       " 'Fast',\n",
       " 'Moving',\n",
       " 'Trends',\n",
       " 'Financial',\n",
       " 'Statements',\n",
       " 'Basics',\n",
       " 'High',\n",
       " 'performance',\n",
       " 'Stock',\n",
       " 'Trading',\n",
       " 'key',\n",
       " 'Options',\n",
       " 'techniques',\n",
       " 'Introduction',\n",
       " 'Financial',\n",
       " 'Statement',\n",
       " 'Analysis',\n",
       " 'Basics',\n",
       " 'Economics',\n",
       " 'College',\n",
       " 'Level',\n",
       " 'Stock',\n",
       " 'Market',\n",
       " 'Investing',\n",
       " 'Beginners',\n",
       " 'Accounting',\n",
       " 'Beginners',\n",
       " 'Learn',\n",
       " 'Basics',\n",
       " '1',\n",
       " 'Hour',\n",
       " 'Straddle',\n",
       " 'Options',\n",
       " 'Trading',\n",
       " 'Profit',\n",
       " 'Market',\n",
       " 'Direction',\n",
       " 'Fundamentals',\n",
       " 'Forex',\n",
       " 'Trading',\n",
       " 'Binary',\n",
       " 'Options',\n",
       " 'Trading',\n",
       " 'Strategies',\n",
       " '90',\n",
       " 'Accuracy',\n",
       " 'Signals',\n",
       " 'Website',\n",
       " 'Investing',\n",
       " '101',\n",
       " 'Buying',\n",
       " 'Selling',\n",
       " 'Online',\n",
       " 'Businesses',\n",
       " 'Practical',\n",
       " 'Accounts',\n",
       " 'Bookkeeping',\n",
       " 'Automated',\n",
       " 'Overview',\n",
       " 'Live',\n",
       " 'Account',\n",
       " 'ETF',\n",
       " 'Trading',\n",
       " 'System',\n",
       " 'Hacking',\n",
       " 'Stock',\n",
       " 'Market',\n",
       " 'Stock',\n",
       " 'Market',\n",
       " 'Leverage',\n",
       " 'Start',\n",
       " 'Trading',\n",
       " 'Options',\n",
       " 'Wisely',\n",
       " 'Stock',\n",
       " 'Market',\n",
       " 'Foundations',\n",
       " 'Crash',\n",
       " 'Course',\n",
       " 'Working',\n",
       " 'Capital',\n",
       " 'Management',\n",
       " 'Advanced',\n",
       " 'Accounting',\n",
       " 'Complete',\n",
       " 'Study',\n",
       " 'CMA',\n",
       " 'CFA',\n",
       " 'CS',\n",
       " '61',\n",
       " 'Profit',\n",
       " '1',\n",
       " 'Month',\n",
       " 'Crush',\n",
       " 'Forex',\n",
       " 'Trading',\n",
       " 'Paradigm',\n",
       " 'create',\n",
       " 'routine',\n",
       " 'Trading',\n",
       " 'Forex',\n",
       " 'Trading',\n",
       " 'Secrets',\n",
       " 'MT4',\n",
       " 'Robot',\n",
       " 'EA',\n",
       " 'inside',\n",
       " 'coding',\n",
       " 'Forex',\n",
       " 'SOS',\n",
       " 'Course',\n",
       " 'Trading',\n",
       " 'Tweaks',\n",
       " 'Working',\n",
       " 'Forex',\n",
       " 'Strategy',\n",
       " 'Introduction',\n",
       " 'Financial',\n",
       " 'Modeling',\n",
       " 'Quantitative',\n",
       " 'Aptitude',\n",
       " 'Banking',\n",
       " 'Competitive',\n",
       " 'Examinations',\n",
       " 'Option',\n",
       " 'Spreads',\n",
       " 'Credit',\n",
       " 'Spreads',\n",
       " 'Bundle',\n",
       " 'B',\n",
       " 'Com',\n",
       " 'Accountancy',\n",
       " 'Paper',\n",
       " 'ECO',\n",
       " '02',\n",
       " 'IGNOU',\n",
       " 'FOREX',\n",
       " 'TRADING',\n",
       " 'Learn',\n",
       " 'quick',\n",
       " 'profitable',\n",
       " 'way',\n",
       " 'support',\n",
       " 'Auditing',\n",
       " 'Basics',\n",
       " 'Professional',\n",
       " 'Course',\n",
       " 'Level',\n",
       " 'Stock',\n",
       " 'market',\n",
       " 'Investing',\n",
       " 'Encyclopedia',\n",
       " 'invest',\n",
       " 'stocks',\n",
       " 'Learn',\n",
       " 'basics',\n",
       " 'preparing',\n",
       " 'accounting',\n",
       " 'statements',\n",
       " 'Elliott',\n",
       " 'Wave',\n",
       " 'Forex',\n",
       " 'Trading',\n",
       " 'Elliott',\n",
       " 'Wave',\n",
       " 'Theory',\n",
       " 'Corporate',\n",
       " 'Finance',\n",
       " 'Brief',\n",
       " 'Introduction',\n",
       " 'Excel',\n",
       " 'functions',\n",
       " 'analyze',\n",
       " 'visualize',\n",
       " 'data',\n",
       " 'Building',\n",
       " 'Financial',\n",
       " 'Statements',\n",
       " 'Excel',\n",
       " 'Transfer',\n",
       " 'Pricing',\n",
       " 'Complete',\n",
       " 'Analysis',\n",
       " 'Accounting',\n",
       " 'Hired',\n",
       " 'Work',\n",
       " 'Experience',\n",
       " 'Forex',\n",
       " 'Trading',\n",
       " 'Beginners',\n",
       " 'Basics',\n",
       " 'Basic',\n",
       " 'Bookkeeping',\n",
       " 'Hacks',\n",
       " 'Complete',\n",
       " 'Trading',\n",
       " 'Plan',\n",
       " 'Course',\n",
       " 'Stocks',\n",
       " 'Forex',\n",
       " '10',\n",
       " 'Hours',\n",
       " 'Forex',\n",
       " 'Trading',\n",
       " 'Fixed',\n",
       " 'Risk',\n",
       " 'Options',\n",
       " 'Trading',\n",
       " 'Intro',\n",
       " 'Investment',\n",
       " 'Banking',\n",
       " 'MA',\n",
       " 'IPO',\n",
       " 'Modeling',\n",
       " 'Free',\n",
       " 'Book',\n",
       " 'Pick',\n",
       " 'Right',\n",
       " 'Penny',\n",
       " 'Stocks',\n",
       " 'Invest',\n",
       " '2017',\n",
       " '10',\n",
       " 'Trading',\n",
       " 'Ideas',\n",
       " 'Equities',\n",
       " 'Market',\n",
       " 'Intro',\n",
       " 'Financial',\n",
       " 'Modeling',\n",
       " 'Shark',\n",
       " 'Accounting',\n",
       " 'Building',\n",
       " 'Business',\n",
       " 'Numbers',\n",
       " 'Forex',\n",
       " 'Trading',\n",
       " 'TRADE',\n",
       " 'TODAY',\n",
       " 'Accounting',\n",
       " '60',\n",
       " 'Minutes',\n",
       " 'Brief',\n",
       " 'Introduction',\n",
       " 'SAP',\n",
       " 'FICO',\n",
       " 'Beginners',\n",
       " 'Guide',\n",
       " 'SAP',\n",
       " 'Financial',\n",
       " 'Accounts',\n",
       " 'Learn',\n",
       " 'double',\n",
       " 'Forex',\n",
       " 'Trading',\n",
       " 'Account',\n",
       " 'trade',\n",
       " 'Accounting',\n",
       " 'Superpowers',\n",
       " 'Learn',\n",
       " 'Accounts',\n",
       " 'Understand',\n",
       " 'Business',\n",
       " 'Python',\n",
       " 'Algo',\n",
       " 'Trading',\n",
       " 'FX',\n",
       " 'Trading',\n",
       " 'Oanda',\n",
       " 'Save',\n",
       " 'Taxes',\n",
       " 'Financial',\n",
       " 'Model',\n",
       " 'Basics',\n",
       " 'Build',\n",
       " 'model',\n",
       " 'start',\n",
       " 'finish',\n",
       " 'Option',\n",
       " 'Trading',\n",
       " 'Rookies',\n",
       " 'Covered',\n",
       " 'Option',\n",
       " 'Strategy',\n",
       " 'EFT',\n",
       " 'Stock',\n",
       " 'Options',\n",
       " 'Trading',\n",
       " 'Success',\n",
       " 'Making',\n",
       " 'Better',\n",
       " 'Trades',\n",
       " 'Learn',\n",
       " 'Trade',\n",
       " 'Stock',\n",
       " 'Market',\n",
       " 'Blowing',\n",
       " 'Profits',\n",
       " 'Credit',\n",
       " 'Repair',\n",
       " 'Publication',\n",
       " 'Amazon',\n",
       " 'Live',\n",
       " 'LIFE',\n",
       " 'Fundamentals',\n",
       " 'Accounting',\n",
       " 'RSI',\n",
       " 'Options',\n",
       " 'Trading',\n",
       " 'Technical',\n",
       " 'Analysis',\n",
       " '3',\n",
       " 'Course',\n",
       " 'Bundle',\n",
       " 'Basics',\n",
       " 'Mutual',\n",
       " 'Funds',\n",
       " 'CMA',\n",
       " 'CS',\n",
       " 'CFA',\n",
       " 'Exams',\n",
       " 'Accounting',\n",
       " '101',\n",
       " 'read',\n",
       " 'Accounting',\n",
       " 'Balance',\n",
       " 'Sheet',\n",
       " 'Stock',\n",
       " 'Options',\n",
       " 'Day',\n",
       " 'Trading',\n",
       " 'Mindset',\n",
       " 'Success',\n",
       " 'Introduction',\n",
       " 'bookkeeping',\n",
       " 'Accounting',\n",
       " 'Learn',\n",
       " 'Trade',\n",
       " 'News',\n",
       " 'Value',\n",
       " 'Investing',\n",
       " 'Taught',\n",
       " 'Superinvestors',\n",
       " 'Trading',\n",
       " 'Independent',\n",
       " 'Investor',\n",
       " 'Course',\n",
       " 'Acquired',\n",
       " 'Learn',\n",
       " 'Head',\n",
       " 'Acquisitions',\n",
       " 'eBay',\n",
       " 'Stock',\n",
       " 'Market',\n",
       " 'investment',\n",
       " 'Practical',\n",
       " 'Accounting',\n",
       " 'remove',\n",
       " 'Risk',\n",
       " 'Penny',\n",
       " 'Stocks',\n",
       " 'Options',\n",
       " 'Trading',\n",
       " 'Accounting',\n",
       " 'Basics',\n",
       " '66',\n",
       " 'Minutes',\n",
       " 'absolutely',\n",
       " 'beginners',\n",
       " 'Tax',\n",
       " 'Accounting',\n",
       " 'Difficult',\n",
       " 'Topic',\n",
       " 'Easy',\n",
       " 'Understand',\n",
       " 'Analysis',\n",
       " 'Company',\n",
       " 'Financial',\n",
       " 'Statements',\n",
       " 'Forex',\n",
       " 'Trading',\n",
       " 'Like',\n",
       " 'Banks',\n",
       " 'Step',\n",
       " 'Step',\n",
       " 'Live',\n",
       " 'Examples',\n",
       " 'Fundamentals',\n",
       " 'Investing',\n",
       " 'Bank',\n",
       " 'Financial',\n",
       " 'Management',\n",
       " 'Comprehensive',\n",
       " 'Study',\n",
       " 'Learn',\n",
       " 'Trade',\n",
       " 'Forex',\n",
       " 'Stocks',\n",
       " 'Beginner',\n",
       " 'Advanced',\n",
       " 'Master',\n",
       " 'Technical',\n",
       " 'Analysis',\n",
       " 'Chart',\n",
       " 'reading',\n",
       " 'skills',\n",
       " 'Bundle',\n",
       " 'Naked',\n",
       " 'Options',\n",
       " 'Trade',\n",
       " 'Covered',\n",
       " 'Poor',\n",
       " 'Man',\n",
       " 'Covered',\n",
       " 'Ultimate',\n",
       " 'Guide',\n",
       " 'Dividend',\n",
       " 'Dividend',\n",
       " 'Growth',\n",
       " 'Investing',\n",
       " 'Charting',\n",
       " 'Beginners',\n",
       " '101',\n",
       " 'Technical',\n",
       " 'Analysis',\n",
       " 'Demystified',\n",
       " 'Build',\n",
       " 'DCF',\n",
       " ...]"
      ]
     },
     "execution_count": 88,
     "metadata": {},
     "output_type": "execute_result"
    }
   ],
   "source": [
    "all_tokens\n"
   ]
  },
  {
   "cell_type": "code",
   "execution_count": 89,
   "metadata": {},
   "outputs": [],
   "source": [
    "from collections import Counter"
   ]
  },
  {
   "cell_type": "code",
   "execution_count": 90,
   "metadata": {},
   "outputs": [],
   "source": [
    "word_freq = Counter(all_tokens)\n"
   ]
  },
  {
   "cell_type": "code",
   "execution_count": 91,
   "metadata": {
    "collapsed": true,
    "jupyter": {
     "outputs_hidden": true
    }
   },
   "outputs": [
    {
     "data": {
      "text/plain": [
       "{'Learn': 491,\n",
       " 'Trading': 280,\n",
       " 'Beginners': 246,\n",
       " 'Course': 231,\n",
       " 'Guitar': 208,\n",
       " 'Web': 205,\n",
       " 'Design': 187,\n",
       " 'Complete': 181,\n",
       " 'Piano': 177,\n",
       " 'Photoshop': 166,\n",
       " 'Forex': 163,\n",
       " 'Build': 161,\n",
       " 'Financial': 138,\n",
       " 'Create': 135,\n",
       " 'JavaScript': 123,\n",
       " 'Beginner': 120,\n",
       " 'Guide': 116,\n",
       " 'HTML': 116,\n",
       " 'Accounting': 111,\n",
       " 'Website': 110,\n",
       " 'Development': 110,\n",
       " '2': 106,\n",
       " 'PHP': 105,\n",
       " 'Options': 101,\n",
       " 'Adobe': 100,\n",
       " 'Play': 98,\n",
       " '1': 97,\n",
       " 'de': 97,\n",
       " 'Introduction': 93,\n",
       " 'CSS': 92}"
      ]
     },
     "execution_count": 91,
     "metadata": {},
     "output_type": "execute_result"
    }
   ],
   "source": [
    "# TOp Words\n",
    "dict(word_freq.most_common(30))"
   ]
  },
  {
   "cell_type": "code",
   "execution_count": 92,
   "metadata": {},
   "outputs": [],
   "source": [
    "top_words = dict(word_freq.most_common(50))"
   ]
  },
  {
   "cell_type": "code",
   "execution_count": 93,
   "metadata": {},
   "outputs": [
    {
     "data": {
      "image/png": "[encoded data removed]",
      "text/plain": [
       "<Figure size 1440x720 with 1 Axes>"
      ]
     },
     "metadata": {
      "needs_background": "light"
     },
     "output_type": "display_data"
    }
   ],
   "source": [
    "plt.figure(figsize=(20,10))\n",
    "plt.bar(*zip(*top_words.items()))\n",
    "plt.xticks(rotation=45)\n",
    "plt.show()\n"
   ]
  },
  {
   "cell_type": "code",
   "execution_count": null,
   "metadata": {},
   "outputs": [],
   "source": []
  }
 ],
 "metadata": {
  "kernelspec": {
   "display_name": "Python 3",
   "language": "python",
   "name": "python3"
  },
  "language_info": {
   "codemirror_mode": {
    "name": "ipython",
    "version": 3
   },
   "file_extension": ".py",
   "mimetype": "text/x-python",
   "name": "python",
   "nbconvert_exporter": "python",
   "pygments_lexer": "ipython3",
   "version": "3.8.5"
  }
 },
 "nbformat": 4,
 "nbformat_minor": 4
}
